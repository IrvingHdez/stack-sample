{
  "cells": [
    {
      "metadata": {
        "collapsed": true
      },
      "cell_type": "markdown",
      "source": "# The CURARE challenge: Match 1"
    },
    {
      "metadata": {
        "trusted": true
      },
      "cell_type": "code",
      "source": "import pandas as pd\nimport timeit",
      "execution_count": 1,
      "outputs": []
    },
    {
      "metadata": {},
      "cell_type": "markdown",
      "source": "### Preparing the game environment"
    },
    {
      "metadata": {
        "trusted": true
      },
      "cell_type": "code",
      "source": "start_time = timeit.default_timer()\nelapsed = timeit.default_timer() - start_time",
      "execution_count": 2,
      "outputs": []
    },
    {
      "metadata": {
        "trusted": true
      },
      "cell_type": "code",
      "source": "import ipywidgets as widgets\n\n#------------------------------------------------------------------------------------------------------------------------------------------#\n#------------------------------------------------------------------ Q1 --------------------------------------------------------------------#\nbtn1=widgets.ToggleButton(value=False,description='Activate',disabled=False,button_style='info',tooltip='',icon='',visibility = 'visible')\n#timeLbl2=widgets.Text(value='0',description='',disabled=True)\nq1 = widgets.RadioButtons(options=['January 1rst 2018', 'January 2nd 2018', 'January 3rd 2018'],value=None,description='Release:',disabled=True)\n\n#------------------------------------------------------------------ Q2 --------------------------------------------------------------------#\nbtn2=widgets.ToggleButton(value=False,description='Activate',disabled=False,button_style='info',tooltip='',icon='',visibility = 'visible')\n#timeLbl1=widgets.Text(value='0',description='',disabled=True)\nq2 = widgets.RadioButtons(options=['January 1rst 2018', 'January 2nd 2018', 'January 3rd 2018'],value=None,description='Release:',disabled=True)\n\n#------------------------------------------------------------------------------------------------------------------------------------------#\n#------------------------------------------------------------------ Q3 --------------------------------------------------------------------#\nbtn3=widgets.ToggleButton(value=False,description='Activate',disabled=False,button_style='info',tooltip='',icon='',visibility = 'visible')\n#timeLbl4=widgets.Text(value='0',description='',disabled=True)\nq3 = widgets.Dropdown(options=['Id','PostTypeId','AcceptedAnswerId','ParentId','CreationDate','DeletionDate','Score','ViewCount','Body','OwnerUserId','OwnerDisplayName','LastEditorUserId','LastEditorDisplayName','LastEditDate','LastActivityDate','Title','Tags','AnswerCount','CommentCount','FavoriteCount','ClosedDate','CommunityOwnedDate'],\n    value=None,description='Attribute:',disabled=True,)\n\n\n\n#------------------------------------------------------------------------------------------------------------------------------------------#\n#------------------------------------------------------------------ Q4 --------------------------------------------------------------------#\nbtn4=widgets.ToggleButton(value=False,description='Activate',disabled=False,button_style='info',tooltip='',icon='',visibility = 'visible')\n#timeLbl3=widgets.Text(value='0',description='',disabled=True)\nq4 = widgets.RadioButtons(options=['January 1rst 2018', 'January 2nd 2018', 'January 3rd 2018'],value=None,description='Release:',disabled=True)\n\n#------------------------------------------------------------------------------------------------------------------------------------------#\n#------------------------------------------------------------------ Q5 --------------------------------------------------------------------#\nbtn5=widgets.ToggleButton(value=False,description='Activate',disabled=False,button_style='info',tooltip='',icon='',visibility = 'visible')\n#timeLbl5=widgets.Text(value='0',description='',disabled=True)\ndrop_options = [['--','Id','UserId','Name','Date','Class','TagBased'],\n                ['--','Id','PostId','Score','Text','CreationDate','UserDisplayName','UserId'],\n               ['--','Id','PostTypeId','AcceptedAnswerId','ParentId','CreationDate','DeletionDate','Score','ViewCount','Body','OwnerUserId','OwnerDisplayName','LastEditorUserId','LastEditorDisplayName','LastEditDate','LastActivityDate','Title','Tags','AnswerCount','CommentCount','FavoriteCount','ClosedDate','CommunityOwnedDate'],\n               ['--','Id','Reputation','CreationDate','DisplayName','LastAccessDate','WebsiteUrl','Location','AboutMe','Views','UpVotes','DownVotes','ProfileImageUrl','EmailHash','AccountId'],\n               ['--','Id','PostId','VoteTypeId','UserId','CreationDate','BountyAmount']]\nchildren = [widgets.Dropdown(options=name,description='',value=None) for name in drop_options]\ntab = widgets.Tab()\ntab.children = children\nitems=['Badges', 'Comments', 'Posts', 'Users', 'Votes']\nfor i in range(len(items)):\n    tab.set_title(i, items[i])\nq5=tab\n#------------------------------------------------------------------------------------------------------------------------------------------#\n#------------------------------------------------------------------ Q6 --------------------------------------------------------------------#\n#btn6=widgets.ToggleButton(value=False,description='Activate',disabled=False,button_style='info',tooltip='',icon='',visibility = 'visible')\n#timeLbl6=widgets.Text(value='0',description='',disabled=True)\n#q6= widgets.RadioButtons(options=['Yes', 'No'],value=None,description='',disabled=False)\n#------------------------------------------------------------------------------------------------------------------------------------------#\n#------------------------------------------------------------------ Q7 --------------------------------------------------------------------#\nbtn7=widgets.ToggleButton(value=False,description='Activate',disabled=False,button_style='info',tooltip='',icon='',visibility = 'visible')\n#timeLbl7=widgets.Text(value='0',description='',disabled=True)\nchildren2 = [widgets.Dropdown(options=name,value=None) for name in drop_options]\ntab2 = widgets.Tab()\ntab2.children = children2\nfor i in range(len(items)):\n    tab2.set_title(i, items[i])\nq7=tab2\n#------------------------------------------------------------------------------------------------------------------------------------------#\n\n#------------------------------------------------------- Effort questions -----------------------------------------------------------------#\neffortW = []\nfor e in range(7):\n    effortW.append(widgets.ToggleButtons(options=['Low', 'Regular', 'High'],description='Select Effort:',disabled=False,value=None))  \n\ntimeLblW = []\nfor t in range(7):\n    timeLblW.append(widgets.Text(value='0',description='',disabled=True))  \n    \n# Timer function    \nimport time, threading\n# btn - receive a button object\n# lbl - receive a label object\n#    we use lbl.value to get timer value\n# q - receive a multiple option object\n#    we use q.value to get answered value\ndef timer(btn,lbl,q):        \n\n    cnt =int(lbl.value)   \n    on=btn.value \n    desc=q.description\n\n    if desc!='Submitted':\n        if on==True:      \n            threading.Timer(1, timer, [btn,lbl,q]).start()\n            cnt = cnt+1                        \n            lbl.value = str(cnt)\n            btn.description='Submit answer'\n            q.disabled=False\n\n        elif on==False:\n            threading.Timer(1, timer, [btn,lbl,q]).start()\n            btn.description='Activate'\n            q.disabled=True\n\n        else:\n            None\n\n    if cnt!=0 and btn.description=='Activate':\n        threading.Timer(1, timer, [btn,lbl,q]).start()\n        q.description='Submitted'\n        btn.visibility='hidden'\n        btn.description='--'\n        btn.disbled=True  \n\ndef timerTab(btn,lbl,q):        \n\n    cnt=int(lbl.value)   \n    on=btn.value \n    desc=q.children[0].description\n\n    if desc!='Submitted':\n        if on==True:      \n            threading.Timer(1, timerTab, [btn,lbl,q]).start()\n            cnt = cnt+1                        \n            lbl.value = str(cnt)\n            btn.description='Submit answer'\n            for i in range(len(q.children)):\n                q.children[i].disabled=False\n\n        elif on==False:\n            threading.Timer(1, timerTab, [btn,lbl,q]).start()\n            btn.description='Activate'\n            for i in range(len(q.children)):\n                q.children[i].disabled=True\n\n        else:\n            None\n\n    if cnt!=0 and btn.description=='Activate':\n        threading.Timer(1, timerTab, [btn,lbl,q]).start()\n        for i in range(len(q.children)):\n            q.children[i].description='Submitted'\n        btn.visibility='hidden'\n        btn.description='--'\n        btn.disbled=True                        ",
      "execution_count": 3,
      "outputs": []
    },
    {
      "metadata": {},
      "cell_type": "markdown",
      "source": "# Explore the Stack overflow releases & solve the enigma "
    },
    {
      "metadata": {},
      "cell_type": "markdown",
      "source": "## Q1. Which release has the most number of records?"
    },
    {
      "metadata": {
        "trusted": true
      },
      "cell_type": "code",
      "source": "timeLblW[0]",
      "execution_count": 4,
      "outputs": [
        {
          "output_type": "display_data",
          "data": {
            "application/vnd.jupyter.widget-view+json": {
              "model_id": "ede50e35b2c745359601c74bd3f5ecf7",
              "version_minor": 0,
              "version_major": 2
            },
            "text/plain": "Text(value='0', disabled=True)"
          },
          "metadata": {}
        }
      ]
    },
    {
      "metadata": {
        "trusted": true
      },
      "cell_type": "code",
      "source": "btn1",
      "execution_count": 5,
      "outputs": [
        {
          "output_type": "display_data",
          "data": {
            "application/vnd.jupyter.widget-view+json": {
              "model_id": "68e1a464eee6425b8ce92e504212c0b6",
              "version_minor": 0,
              "version_major": 2
            },
            "text/plain": "ToggleButton(value=False, button_style='info', description='Activate')"
          },
          "metadata": {}
        }
      ]
    },
    {
      "metadata": {
        "trusted": true
      },
      "cell_type": "code",
      "source": "q1",
      "execution_count": 6,
      "outputs": [
        {
          "output_type": "display_data",
          "data": {
            "application/vnd.jupyter.widget-view+json": {
              "model_id": "46aeea9d645a4d0ba3b4410b64ea4ae3",
              "version_minor": 0,
              "version_major": 2
            },
            "text/plain": "RadioButtons(description='Release:', disabled=True, options=('January 1rst 2018', 'January 2nd 2018', 'January…"
          },
          "metadata": {}
        }
      ]
    },
    {
      "metadata": {
        "trusted": true
      },
      "cell_type": "code",
      "source": "timer(btn1,timeLblW[0],q1)",
      "execution_count": 7,
      "outputs": []
    },
    {
      "metadata": {},
      "cell_type": "markdown",
      "source": "### Q1.1 Effort to answer the question"
    },
    {
      "metadata": {
        "trusted": true
      },
      "cell_type": "code",
      "source": "effortW[0]",
      "execution_count": 8,
      "outputs": [
        {
          "output_type": "display_data",
          "data": {
            "application/vnd.jupyter.widget-view+json": {
              "model_id": "3bf50d4f22fa45fbb99ba1bea8b3b338",
              "version_minor": 0,
              "version_major": 2
            },
            "text/plain": "ToggleButtons(description='Select Effort:', options=('Low', 'Regular', 'High'), value=None)"
          },
          "metadata": {}
        }
      ]
    },
    {
      "metadata": {},
      "cell_type": "markdown",
      "source": "## Q2. Which is the release with best quality? (fewest null values)"
    },
    {
      "metadata": {
        "trusted": true
      },
      "cell_type": "code",
      "source": "timeLblW[1]",
      "execution_count": 9,
      "outputs": [
        {
          "output_type": "display_data",
          "data": {
            "application/vnd.jupyter.widget-view+json": {
              "model_id": "0c4546604965434eab2decbd43399dfa",
              "version_minor": 0,
              "version_major": 2
            },
            "text/plain": "Text(value='0', disabled=True)"
          },
          "metadata": {}
        }
      ]
    },
    {
      "metadata": {
        "trusted": true
      },
      "cell_type": "code",
      "source": "btn2",
      "execution_count": 10,
      "outputs": [
        {
          "output_type": "display_data",
          "data": {
            "application/vnd.jupyter.widget-view+json": {
              "model_id": "f2b992007c3b4c76aa14ff7a6587e1bc",
              "version_minor": 0,
              "version_major": 2
            },
            "text/plain": "ToggleButton(value=False, button_style='info', description='Activate')"
          },
          "metadata": {}
        }
      ]
    },
    {
      "metadata": {
        "trusted": true
      },
      "cell_type": "code",
      "source": "q2",
      "execution_count": 11,
      "outputs": [
        {
          "output_type": "display_data",
          "data": {
            "application/vnd.jupyter.widget-view+json": {
              "model_id": "d8020b95303a4b53a02df75394db4963",
              "version_minor": 0,
              "version_major": 2
            },
            "text/plain": "RadioButtons(description='Release:', disabled=True, options=('January 1rst 2018', 'January 2nd 2018', 'January…"
          },
          "metadata": {}
        }
      ]
    },
    {
      "metadata": {
        "trusted": true
      },
      "cell_type": "code",
      "source": "timer(btn2,timeLblW[0],q2)",
      "execution_count": 12,
      "outputs": []
    },
    {
      "metadata": {},
      "cell_type": "markdown",
      "source": "### Q2.1 Effort to answer the question"
    },
    {
      "metadata": {
        "trusted": true
      },
      "cell_type": "code",
      "source": "effortW[1]",
      "execution_count": 13,
      "outputs": [
        {
          "output_type": "display_data",
          "data": {
            "application/vnd.jupyter.widget-view+json": {
              "model_id": "f9c447e389b04e8ca2620939215b50bc",
              "version_minor": 0,
              "version_major": 2
            },
            "text/plain": "ToggleButtons(description='Select Effort:', options=('Low', 'Regular', 'High'), value=None)"
          },
          "metadata": {}
        }
      ]
    },
    {
      "metadata": {},
      "cell_type": "markdown",
      "source": "## Q3 Which is/are the attribute(s) in Posts that can be used to identify the most trendy topic addressed in a release?"
    },
    {
      "metadata": {
        "trusted": true
      },
      "cell_type": "code",
      "source": "timeLblW[2]",
      "execution_count": 14,
      "outputs": [
        {
          "output_type": "display_data",
          "data": {
            "application/vnd.jupyter.widget-view+json": {
              "model_id": "36a1546f8923444ead68342ace9faddd",
              "version_minor": 0,
              "version_major": 2
            },
            "text/plain": "Text(value='0', disabled=True)"
          },
          "metadata": {}
        }
      ]
    },
    {
      "metadata": {
        "trusted": true
      },
      "cell_type": "code",
      "source": "btn3",
      "execution_count": 15,
      "outputs": [
        {
          "output_type": "display_data",
          "data": {
            "application/vnd.jupyter.widget-view+json": {
              "model_id": "4d296702321d4e34b64d202c8248418e",
              "version_minor": 0,
              "version_major": 2
            },
            "text/plain": "ToggleButton(value=False, button_style='info', description='Activate')"
          },
          "metadata": {}
        }
      ]
    },
    {
      "metadata": {
        "trusted": true
      },
      "cell_type": "code",
      "source": "q3",
      "execution_count": 16,
      "outputs": [
        {
          "output_type": "display_data",
          "data": {
            "application/vnd.jupyter.widget-view+json": {
              "model_id": "9f5be5f4a0584614863f65e67bbbb481",
              "version_minor": 0,
              "version_major": 2
            },
            "text/plain": "Dropdown(description='Attribute:', disabled=True, options=('Id', 'PostTypeId', 'AcceptedAnswerId', 'ParentId',…"
          },
          "metadata": {}
        }
      ]
    },
    {
      "metadata": {
        "trusted": true
      },
      "cell_type": "code",
      "source": "timer(btn3,timeLblW[2],q3)",
      "execution_count": 17,
      "outputs": []
    },
    {
      "metadata": {},
      "cell_type": "markdown",
      "source": "### Q3.1 Effort to answer the question"
    },
    {
      "metadata": {
        "trusted": true
      },
      "cell_type": "code",
      "source": "effortW[3]",
      "execution_count": 18,
      "outputs": [
        {
          "output_type": "display_data",
          "data": {
            "application/vnd.jupyter.widget-view+json": {
              "model_id": "0f45578c8dfb4b74a10876ca9babeffc",
              "version_minor": 0,
              "version_major": 2
            },
            "text/plain": "ToggleButtons(description='Select Effort:', options=('Low', 'Regular', 'High'), value=None)"
          },
          "metadata": {}
        }
      ]
    },
    {
      "metadata": {},
      "cell_type": "markdown",
      "source": "## Q4. Which is the release where the attribute _UpVote_  from _Users_  is most evenly distributed?"
    },
    {
      "metadata": {
        "trusted": true
      },
      "cell_type": "code",
      "source": "timeLblW[3]",
      "execution_count": 19,
      "outputs": [
        {
          "output_type": "display_data",
          "data": {
            "application/vnd.jupyter.widget-view+json": {
              "model_id": "741c037b961e4687b1433903c735981e",
              "version_minor": 0,
              "version_major": 2
            },
            "text/plain": "Text(value='0', disabled=True)"
          },
          "metadata": {}
        }
      ]
    },
    {
      "metadata": {
        "trusted": true
      },
      "cell_type": "code",
      "source": "btn4",
      "execution_count": 20,
      "outputs": [
        {
          "output_type": "display_data",
          "data": {
            "application/vnd.jupyter.widget-view+json": {
              "model_id": "c3abc6bad6e8424e9f231f7ad25c229d",
              "version_minor": 0,
              "version_major": 2
            },
            "text/plain": "ToggleButton(value=False, button_style='info', description='Activate')"
          },
          "metadata": {}
        }
      ]
    },
    {
      "metadata": {
        "trusted": true
      },
      "cell_type": "code",
      "source": "q4",
      "execution_count": 21,
      "outputs": [
        {
          "output_type": "display_data",
          "data": {
            "application/vnd.jupyter.widget-view+json": {
              "model_id": "f1dc4dfc3ad947d7b73b781f395b7a5f",
              "version_minor": 0,
              "version_major": 2
            },
            "text/plain": "RadioButtons(description='Release:', disabled=True, options=('January 1rst 2018', 'January 2nd 2018', 'January…"
          },
          "metadata": {}
        }
      ]
    },
    {
      "metadata": {
        "trusted": true
      },
      "cell_type": "code",
      "source": "timer(btn4,timeLblW[2],q4)",
      "execution_count": 22,
      "outputs": []
    },
    {
      "metadata": {},
      "cell_type": "markdown",
      "source": "### Q4.1 Effort to answer the question"
    },
    {
      "metadata": {
        "trusted": true
      },
      "cell_type": "code",
      "source": "effortW[3]",
      "execution_count": 23,
      "outputs": [
        {
          "output_type": "display_data",
          "data": {
            "application/vnd.jupyter.widget-view+json": {
              "model_id": "0f45578c8dfb4b74a10876ca9babeffc",
              "version_minor": 0,
              "version_major": 2
            },
            "text/plain": "ToggleButtons(description='Select Effort:', options=('Low', 'Regular', 'High'), value=None)"
          },
          "metadata": {}
        }
      ]
    },
    {
      "metadata": {},
      "cell_type": "markdown",
      "source": "## Q5. Which is/are the attribute(s) that can be used to identify the most trendy topic addressed in the release?"
    },
    {
      "metadata": {
        "trusted": true
      },
      "cell_type": "code",
      "source": "timeLblW[4]",
      "execution_count": 24,
      "outputs": [
        {
          "output_type": "display_data",
          "data": {
            "application/vnd.jupyter.widget-view+json": {
              "model_id": "4cfaaea6129d4f19b352336c262de2ff",
              "version_minor": 0,
              "version_major": 2
            },
            "text/plain": "Text(value='0', disabled=True)"
          },
          "metadata": {}
        }
      ]
    },
    {
      "metadata": {
        "trusted": true
      },
      "cell_type": "code",
      "source": "btn5",
      "execution_count": 25,
      "outputs": [
        {
          "output_type": "display_data",
          "data": {
            "application/vnd.jupyter.widget-view+json": {
              "model_id": "e9107c8905ea4eea9328a3541ba4fe03",
              "version_minor": 0,
              "version_major": 2
            },
            "text/plain": "ToggleButton(value=False, button_style='info', description='Activate')"
          },
          "metadata": {}
        }
      ]
    },
    {
      "metadata": {
        "scrolled": true,
        "trusted": true
      },
      "cell_type": "code",
      "source": "q5",
      "execution_count": 26,
      "outputs": [
        {
          "output_type": "display_data",
          "data": {
            "application/vnd.jupyter.widget-view+json": {
              "model_id": "a2b07df1248e4cc48e91c3646488fbf8",
              "version_minor": 0,
              "version_major": 2
            },
            "text/plain": "Tab(children=(Dropdown(options=('--', 'Id', 'UserId', 'Name', 'Date', 'Class', 'TagBased'), value=None), Dropd…"
          },
          "metadata": {}
        }
      ]
    },
    {
      "metadata": {
        "trusted": true
      },
      "cell_type": "code",
      "source": "timerTab(btn5,timeLblW[4],q5)",
      "execution_count": 27,
      "outputs": []
    },
    {
      "metadata": {},
      "cell_type": "markdown",
      "source": "### Q5.1 Effort to answer the question"
    },
    {
      "metadata": {
        "trusted": true
      },
      "cell_type": "code",
      "source": "effortW[4]",
      "execution_count": 28,
      "outputs": [
        {
          "output_type": "display_data",
          "data": {
            "application/vnd.jupyter.widget-view+json": {
              "model_id": "096f30bbe93641368456a725685494ea",
              "version_minor": 0,
              "version_major": 2
            },
            "text/plain": "ToggleButtons(description='Select Effort:', options=('Low', 'Regular', 'High'), value=None)"
          },
          "metadata": {}
        }
      ]
    },
    {
      "metadata": {},
      "cell_type": "markdown",
      "source": "## Q6. Choose the attributes that can be used as sharging keys to fragment the release using a hash based strategy"
    },
    {
      "metadata": {
        "trusted": true
      },
      "cell_type": "code",
      "source": "timeLblW[6]",
      "execution_count": 29,
      "outputs": [
        {
          "output_type": "display_data",
          "data": {
            "application/vnd.jupyter.widget-view+json": {
              "model_id": "d1e8372af38345428205c1c6a9227bd2",
              "version_minor": 0,
              "version_major": 2
            },
            "text/plain": "Text(value='0', disabled=True)"
          },
          "metadata": {}
        }
      ]
    },
    {
      "metadata": {
        "trusted": true
      },
      "cell_type": "code",
      "source": "btn7",
      "execution_count": 30,
      "outputs": [
        {
          "output_type": "display_data",
          "data": {
            "application/vnd.jupyter.widget-view+json": {
              "model_id": "1884ca8fbf96473fa85b74d6e8999630",
              "version_minor": 0,
              "version_major": 2
            },
            "text/plain": "ToggleButton(value=False, button_style='info', description='Activate')"
          },
          "metadata": {}
        }
      ]
    },
    {
      "metadata": {
        "trusted": true
      },
      "cell_type": "code",
      "source": "timerTab(btn7,timeLblW[6],q7)",
      "execution_count": 31,
      "outputs": []
    },
    {
      "metadata": {
        "trusted": true
      },
      "cell_type": "code",
      "source": "q7",
      "execution_count": 32,
      "outputs": [
        {
          "output_type": "display_data",
          "data": {
            "application/vnd.jupyter.widget-view+json": {
              "model_id": "96c54ca8854749219b560c9a92d99a63",
              "version_minor": 0,
              "version_major": 2
            },
            "text/plain": "Tab(children=(Dropdown(disabled=True, options=('--', 'Id', 'UserId', 'Name', 'Date', 'Class', 'TagBased'), val…"
          },
          "metadata": {}
        }
      ]
    },
    {
      "metadata": {},
      "cell_type": "markdown",
      "source": "### Q6.1 Effort to answer the question"
    },
    {
      "metadata": {
        "trusted": true
      },
      "cell_type": "code",
      "source": "effortW[6]",
      "execution_count": 33,
      "outputs": [
        {
          "output_type": "display_data",
          "data": {
            "application/vnd.jupyter.widget-view+json": {
              "model_id": "74427abc77dc4baa9130b371b989d4b9",
              "version_minor": 0,
              "version_major": 2
            },
            "text/plain": "ToggleButtons(description='Select Effort:', options=('Low', 'Regular', 'High'), value=None)"
          },
          "metadata": {}
        }
      ]
    },
    {
      "metadata": {},
      "cell_type": "markdown",
      "source": "## Get Match Results"
    },
    {
      "metadata": {
        "trusted": true
      },
      "cell_type": "code",
      "source": "# collect user effort \nuserEffortL = []\nfor e in effortW:\n    userEffortL.append(e.value) \n        \n# collect time from answers\nqtimeL=[]\nfor t in timeLblW:\n    qtimeL.append(int(t.value))\n\n# tuple for answers\nqans1=q1.options[2]\nqans2=q2.options[0]\nqans4=q4.options[1]\nqans3=q3.options[3]\nqans5=[q5.children[0].options[3],q5.children[1].options[0],q5.children[2].options[5],q5.children[3].options[5],q5.children[4].options[0]]\n#qans6=q6.options[0]\nqans7=[q7.children[0].options[3],q7.children[1].options[0],q7.children[2].options[5],q7.children[3].options[5],q7.children[4].options[0]]\nqans = [qans1,qans2,qans3,qans4,qans5,qans7]\n\nscoreL = [0.0]*7\n\nif q1.value == qans1: scoreL[0]=1 \nif q2.value == qans2: scoreL[1]=1 \nif q4.value == qans4: scoreL[3]=1 \nif q3.value == qans3: scoreL[2]=1 \n\nif qans5[0] == q5.children[0].value: scoreL[4]=scoreL[4] + 0.2\nif qans5[1] == q5.children[1].value: scoreL[4]=scoreL[4] + 0.2\nif qans5[2] == q5.children[2].value: scoreL[4]=scoreL[4] + 0.2\nif qans5[3] == q5.children[3].value: scoreL[4]=scoreL[4] + 0.2\nif qans5[4] == q5.children[4].value: scoreL[4]=scoreL[4] + 0.2\n\n#if q6.value ==qans6: scoreL[5]=1\n\nif qans7[0] == q7.children[0].value: scoreL[6]=scoreL[6] + 0.2\nif qans7[1] == q7.children[1].value: scoreL[6]=scoreL[6] + 0.2\nif qans7[2] == q7.children[2].value: scoreL[6]=scoreL[6] + 0.2\nif qans7[3] == q7.children[3].value: scoreL[6]=scoreL[6] + 0.2\nif qans7[4] == q7.children[4].value: scoreL[6]=scoreL[6] + 0.2\n\n# calculated effort\ncalcEffortL = []\nmaxcEffort = 100\nfor i in range(0,len(scoreL)):\n    if scoreL[i] == 0: \n        calcEffortL.append(maxcEffort)\n    else:\n        if int(qtimeL[i]) > 300: qtimeL[i] = 300 # 5 min limit\n        tmp=int(qtimeL[i])/scoreL[i]\n        calcEffortL.append((tmp*100)/1800)            ",
      "execution_count": 34,
      "outputs": []
    },
    {
      "metadata": {
        "trusted": true
      },
      "cell_type": "code",
      "source": "import csv\n# qid | time | score | user_effort | calculated_effort | execution_time (cpu)\nheader=['qid', 'score', 'time', 'user_effort', 'calculated_effort', 'execution_time'] \nqid=list(range(1,8))\nelapsedL = [elapsed]*7\n\nrows = zip(qid,scoreL,qtimeL,userEffortL,calcEffortL,elapsedL)\n\nwith open(\"../results/match1.csv\", mode=\"w\") as f:\n    #writer = csv.writer(f, delimiter=',', quotechar='\"', quoting=csv.QUOTE_MINIMAL)\n    writer = csv.writer(f, delimiter=',')\n    writer.writerow(header)\n    for row in rows:\n        writer.writerow(row)",
      "execution_count": 35,
      "outputs": []
    },
    {
      "metadata": {
        "trusted": true
      },
      "cell_type": "code",
      "source": "!pip install gunicorn",
      "execution_count": 1,
      "outputs": [
        {
          "output_type": "stream",
          "text": "Collecting gunicorn\n\u001b[?25l  Downloading https://files.pythonhosted.org/packages/8c/da/b8dd8deb741bff556db53902d4706774c8e1e67265f69528c14c003644e6/gunicorn-19.9.0-py2.py3-none-any.whl (112kB)\n\u001b[K    100% |████████████████████████████████| 122kB 1.9MB/s ta 0:00:01\n\u001b[?25hInstalling collected packages: gunicorn\nSuccessfully installed gunicorn-19.9.0\n",
          "name": "stdout"
        }
      ]
    },
    {
      "metadata": {
        "trusted": true
      },
      "cell_type": "code",
      "source": "import os\nimport dash\nimport dash_core_components as dcc\nimport dash_html_components as html\napp = dash.Dash(__name__)\nserver = app.server\napp.layout = html.Div([\n    html.H2('Hello World'),\n    dcc.Dropdown(\n        id='dropdown',\n        options=[{'label': i, 'value': i} for i in ['LA', 'NYC', 'MTL']],\n        value='LA'\n    ),\n    html.Div(id='display-value')\n])\n@app.callback(dash.dependencies.Output('display-value', 'children'),\n              [dash.dependencies.Input('dropdown', 'value')])\ndef display_value(value):\n    return 'You have selected \"{}\"'.format(value)\nif __name__ == '__main__':\n    app.run_server(debug=True)",
      "execution_count": 2,
      "outputs": [
        {
          "output_type": "error",
          "ename": "ImportError",
          "evalue": "No module named 'dash'",
          "traceback": [
            "\u001b[0;31m---------------------------------------------------------------------------\u001b[0m",
            "\u001b[0;31mImportError\u001b[0m                               Traceback (most recent call last)",
            "\u001b[0;32m<ipython-input-2-a9426dd2fbad>\u001b[0m in \u001b[0;36m<module>\u001b[0;34m()\u001b[0m\n\u001b[1;32m      1\u001b[0m \u001b[0;32mimport\u001b[0m \u001b[0mos\u001b[0m\u001b[0;34m\u001b[0m\u001b[0m\n\u001b[0;32m----> 2\u001b[0;31m \u001b[0;32mimport\u001b[0m \u001b[0mdash\u001b[0m\u001b[0;34m\u001b[0m\u001b[0m\n\u001b[0m\u001b[1;32m      3\u001b[0m \u001b[0;32mimport\u001b[0m \u001b[0mdash_core_components\u001b[0m \u001b[0;32mas\u001b[0m \u001b[0mdcc\u001b[0m\u001b[0;34m\u001b[0m\u001b[0m\n\u001b[1;32m      4\u001b[0m \u001b[0;32mimport\u001b[0m \u001b[0mdash_html_components\u001b[0m \u001b[0;32mas\u001b[0m \u001b[0mhtml\u001b[0m\u001b[0;34m\u001b[0m\u001b[0m\n\u001b[1;32m      5\u001b[0m \u001b[0mapp\u001b[0m \u001b[0;34m=\u001b[0m \u001b[0mdash\u001b[0m\u001b[0;34m.\u001b[0m\u001b[0mDash\u001b[0m\u001b[0;34m(\u001b[0m\u001b[0m__name__\u001b[0m\u001b[0;34m)\u001b[0m\u001b[0;34m\u001b[0m\u001b[0m\n",
            "\u001b[0;31mImportError\u001b[0m: No module named 'dash'"
          ]
        }
      ]
    }
  ],
  "metadata": {
    "kernelspec": {
      "name": "python3",
      "display_name": "Python 3",
      "language": "python"
    },
    "language_info": {
      "mimetype": "text/x-python",
      "nbconvert_exporter": "python",
      "name": "python",
      "pygments_lexer": "ipython3",
      "version": "3.5.4",
      "file_extension": ".py",
      "codemirror_mode": {
        "version": 3,
        "name": "ipython"
      }
    }
  },
  "nbformat": 4,
  "nbformat_minor": 2
}