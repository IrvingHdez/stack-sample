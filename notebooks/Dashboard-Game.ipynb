{
  "cells": [
    {
      "metadata": {
        "trusted": true
      },
      "cell_type": "code",
      "source": "import pandas as pd\nimport plotly\nimport plotly.plotly as py\nimport plotly.graph_objs as go\nimport plotly.dashboard_objs as dashboard\nimport IPython.display\nfrom IPython.display import Image\nplotly.__version__",
      "execution_count": 1,
      "outputs": [
        {
          "output_type": "execute_result",
          "execution_count": 1,
          "data": {
            "text/plain": "'3.5.0'"
          },
          "metadata": {}
        }
      ]
    },
    {
      "metadata": {
        "trusted": true
      },
      "cell_type": "code",
      "source": "plotly.tools.set_credentials_file(username='irvinghg', api_key='1B3oHF0vwgLpowDqVAa7')",
      "execution_count": 2,
      "outputs": []
    },
    {
      "metadata": {
        "trusted": true
      },
      "cell_type": "code",
      "source": "# Read CSV\nresults_m1 = pd.read_csv('../results/match1.csv')#,\n                         #na_values=':', usecols=['qid', 'score', 'time', 'user_effort', 'calculated_effort', 'execution_time'])\nresults_m1",
      "execution_count": 3,
      "outputs": [
        {
          "output_type": "execute_result",
          "execution_count": 3,
          "data": {
            "text/plain": "   qid  score  time  user_effort  calculated_effort  execution_time\n0    1    0.0     0          NaN                100       41.864821\n1    2    0.0     0          NaN                100       41.864821\n2    3    0.0     0          NaN                100       41.864821\n3    4    0.0     0          NaN                100       41.864821\n4    5    0.0     0          NaN                100       41.864821\n5    6    0.0     0          NaN                100       41.864821\n6    7    0.0     0          NaN                100       41.864821",
            "text/html": "<div>\n<style scoped>\n    .dataframe tbody tr th:only-of-type {\n        vertical-align: middle;\n    }\n\n    .dataframe tbody tr th {\n        vertical-align: top;\n    }\n\n    .dataframe thead th {\n        text-align: right;\n    }\n</style>\n<table border=\"1\" class=\"dataframe\">\n  <thead>\n    <tr style=\"text-align: right;\">\n      <th></th>\n      <th>qid</th>\n      <th>score</th>\n      <th>time</th>\n      <th>user_effort</th>\n      <th>calculated_effort</th>\n      <th>execution_time</th>\n    </tr>\n  </thead>\n  <tbody>\n    <tr>\n      <th>0</th>\n      <td>1</td>\n      <td>0.0</td>\n      <td>0</td>\n      <td>NaN</td>\n      <td>100</td>\n      <td>41.864821</td>\n    </tr>\n    <tr>\n      <th>1</th>\n      <td>2</td>\n      <td>0.0</td>\n      <td>0</td>\n      <td>NaN</td>\n      <td>100</td>\n      <td>41.864821</td>\n    </tr>\n    <tr>\n      <th>2</th>\n      <td>3</td>\n      <td>0.0</td>\n      <td>0</td>\n      <td>NaN</td>\n      <td>100</td>\n      <td>41.864821</td>\n    </tr>\n    <tr>\n      <th>3</th>\n      <td>4</td>\n      <td>0.0</td>\n      <td>0</td>\n      <td>NaN</td>\n      <td>100</td>\n      <td>41.864821</td>\n    </tr>\n    <tr>\n      <th>4</th>\n      <td>5</td>\n      <td>0.0</td>\n      <td>0</td>\n      <td>NaN</td>\n      <td>100</td>\n      <td>41.864821</td>\n    </tr>\n    <tr>\n      <th>5</th>\n      <td>6</td>\n      <td>0.0</td>\n      <td>0</td>\n      <td>NaN</td>\n      <td>100</td>\n      <td>41.864821</td>\n    </tr>\n    <tr>\n      <th>6</th>\n      <td>7</td>\n      <td>0.0</td>\n      <td>0</td>\n      <td>NaN</td>\n      <td>100</td>\n      <td>41.864821</td>\n    </tr>\n  </tbody>\n</table>\n</div>"
          },
          "metadata": {}
        }
      ]
    },
    {
      "metadata": {
        "trusted": true
      },
      "cell_type": "code",
      "source": "results_m2 = pd.read_csv('../results/match2.csv')#,\n                         #na_values=':', usecols=['qid', 'score', 'time', 'user_effort', 'calculated_effort', 'execution_time'])\nresults_m2",
      "execution_count": 4,
      "outputs": [
        {
          "output_type": "execute_result",
          "execution_count": 4,
          "data": {
            "text/plain": "   qid  score  time user_effort  calculated_effort  execution_time\n0    1    0.0    56         Low         100.000000         14.8252\n1    2    0.0    48        High         100.000000         14.8252\n2    3    1.0     2         Low           0.111111         14.8252\n3    4    0.0     4         NaN         100.000000         14.8252\n4    5    0.0     6         Low         100.000000         14.8252\n5    6    1.0     6     Regular           0.333333         14.8252\n6    7    0.0     3         Low         100.000000         14.8252",
            "text/html": "<div>\n<style scoped>\n    .dataframe tbody tr th:only-of-type {\n        vertical-align: middle;\n    }\n\n    .dataframe tbody tr th {\n        vertical-align: top;\n    }\n\n    .dataframe thead th {\n        text-align: right;\n    }\n</style>\n<table border=\"1\" class=\"dataframe\">\n  <thead>\n    <tr style=\"text-align: right;\">\n      <th></th>\n      <th>qid</th>\n      <th>score</th>\n      <th>time</th>\n      <th>user_effort</th>\n      <th>calculated_effort</th>\n      <th>execution_time</th>\n    </tr>\n  </thead>\n  <tbody>\n    <tr>\n      <th>0</th>\n      <td>1</td>\n      <td>0.0</td>\n      <td>56</td>\n      <td>Low</td>\n      <td>100.000000</td>\n      <td>14.8252</td>\n    </tr>\n    <tr>\n      <th>1</th>\n      <td>2</td>\n      <td>0.0</td>\n      <td>48</td>\n      <td>High</td>\n      <td>100.000000</td>\n      <td>14.8252</td>\n    </tr>\n    <tr>\n      <th>2</th>\n      <td>3</td>\n      <td>1.0</td>\n      <td>2</td>\n      <td>Low</td>\n      <td>0.111111</td>\n      <td>14.8252</td>\n    </tr>\n    <tr>\n      <th>3</th>\n      <td>4</td>\n      <td>0.0</td>\n      <td>4</td>\n      <td>NaN</td>\n      <td>100.000000</td>\n      <td>14.8252</td>\n    </tr>\n    <tr>\n      <th>4</th>\n      <td>5</td>\n      <td>0.0</td>\n      <td>6</td>\n      <td>Low</td>\n      <td>100.000000</td>\n      <td>14.8252</td>\n    </tr>\n    <tr>\n      <th>5</th>\n      <td>6</td>\n      <td>1.0</td>\n      <td>6</td>\n      <td>Regular</td>\n      <td>0.333333</td>\n      <td>14.8252</td>\n    </tr>\n    <tr>\n      <th>6</th>\n      <td>7</td>\n      <td>0.0</td>\n      <td>3</td>\n      <td>Low</td>\n      <td>100.000000</td>\n      <td>14.8252</td>\n    </tr>\n  </tbody>\n</table>\n</div>"
          },
          "metadata": {}
        }
      ]
    },
    {
      "metadata": {
        "trusted": true
      },
      "cell_type": "code",
      "source": "r = list(results_m1['score'])\nrmax=max(r)\ndeltar=rmax+(rmax*0.1)\n\nr2 = list(results_m2['score'])\nrmax2=max(r2)\ndeltar2=rmax2+(rmax2*0.1)\n\ndata = [go.Scatterpolar(\n  r = r,\n    theta = results_m1['qid'],\n  fill = 'toself',\n    name = 'Score Match 1'\n),\n    go.Scatterpolar(\n      r = r2,\n      theta = results_m2['qid'],\n      fill = 'toself',\n      name = 'Score Match 2'\n    )\n]\n\nlayout = go.Layout(\n  polar = dict(\n    radialaxis = dict(\n      visible = True,\n      range = [0, max(deltar,deltar2)]\n    )\n  ),\n  showlegend = True\n)\n\nfig = go.Figure(data=data, layout=layout)\npy.iplot(fig, filename = \"score-multiple\")",
      "execution_count": 5,
      "outputs": [
        {
          "output_type": "execute_result",
          "execution_count": 5,
          "data": {
            "text/plain": "<plotly.tools.PlotlyDisplay object>",
            "text/html": "<iframe id=\"igraph\" scrolling=\"no\" style=\"border:none;\" seamless=\"seamless\" src=\"https://plot.ly/~irvinghg/113.embed\" height=\"525px\" width=\"100%\"></iframe>"
          },
          "metadata": {}
        }
      ]
    },
    {
      "metadata": {
        "trusted": true
      },
      "cell_type": "code",
      "source": "plot_url_mult = py.plot(fig);plot_url_mult",
      "execution_count": 6,
      "outputs": [
        {
          "output_type": "execute_result",
          "execution_count": 6,
          "data": {
            "text/plain": "u'https://plot.ly/~irvinghg/115'"
          },
          "metadata": {}
        }
      ]
    },
    {
      "metadata": {
        "trusted": true
      },
      "cell_type": "code",
      "source": "data = [go.Scatterpolar(\n  r = r,\n    theta = results_m1['qid'],\n  fill = 'toself',\n    name = 'Time Match 1'\n),\n    go.Scatterpolar(\n      r = r2,\n      theta = results_m2['qid'],\n      fill = 'toself',\n      name = 'Time Match 2'\n    )\n]\n\ntrace1 = go.Bar(\n    x = results_m1['qid'],\n    y=results_m1['time'],\n    name='Using raw data',\n    marker=dict(\n        color='rgb(55, 83, 109)'\n    )\n)\ntrace2 = go.Bar(\n    x = results_m2['qid'],\n    y = results_m2['time'],\n    name='Using views',\n    marker=dict(\n        color='rgb(26, 118, 255)'\n    )\n)\ndata = [trace1, trace2]\nlayout = go.Layout(\n    title='Time to answer challenge queries',\n    xaxis=dict(\n        tickfont=dict(\n            size=14,\n            color='rgb(107, 107, 107)'\n        )\n    ),\n    yaxis=dict(\n        title='Time (seconds)',\n        titlefont=dict(\n            size=16,\n            color='rgb(107, 107, 107)'\n        ),\n        tickfont=dict(\n            size=14,\n            color='rgb(107, 107, 107)'\n        )\n    ),\n    legend=dict(\n        x=0,\n        y=1.0,\n        bgcolor='rgba(255, 255, 255, 0)',\n        bordercolor='rgba(255, 255, 255, 0)'\n    ),\n    barmode='group',\n    bargap=0.15,\n    bargroupgap=0.1\n)\n\nfig = go.Figure(data=data, layout=layout)\npy.iplot(fig, filename='question-time-bar')",
      "execution_count": 7,
      "outputs": [
        {
          "output_type": "execute_result",
          "execution_count": 7,
          "data": {
            "text/plain": "<plotly.tools.PlotlyDisplay object>",
            "text/html": "<iframe id=\"igraph\" scrolling=\"no\" style=\"border:none;\" seamless=\"seamless\" src=\"https://plot.ly/~irvinghg/117.embed\" height=\"525px\" width=\"100%\"></iframe>"
          },
          "metadata": {}
        }
      ]
    },
    {
      "metadata": {
        "trusted": true
      },
      "cell_type": "code",
      "source": "plot_url_bar = py.plot(fig);plot_url_bar",
      "execution_count": 8,
      "outputs": [
        {
          "output_type": "execute_result",
          "execution_count": 8,
          "data": {
            "text/plain": "u'https://plot.ly/~irvinghg/119'"
          },
          "metadata": {}
        }
      ]
    },
    {
      "metadata": {
        "trusted": true
      },
      "cell_type": "code",
      "source": "effort_groups1 = results_m1.groupby('user_effort').count().qid;effort_groups1",
      "execution_count": 9,
      "outputs": [
        {
          "output_type": "execute_result",
          "execution_count": 9,
          "data": {
            "text/plain": "Series([], Name: qid, dtype: int64)"
          },
          "metadata": {}
        }
      ]
    },
    {
      "metadata": {
        "trusted": true
      },
      "cell_type": "code",
      "source": "effort_groups2 = results_m2.groupby('user_effort').count().qid;effort_groups2",
      "execution_count": 10,
      "outputs": [
        {
          "output_type": "execute_result",
          "execution_count": 10,
          "data": {
            "text/plain": "user_effort\nHigh       1\nLow        4\nRegular    1\nName: qid, dtype: int64"
          },
          "metadata": {}
        }
      ]
    },
    {
      "metadata": {
        "trusted": true
      },
      "cell_type": "code",
      "source": "# User effor --pie chart--\nfig = {\n    \"data\": [\n        {\n            \"values\": effort_groups1,\n            \"labels\": ['Low','Regular','High'],\n            \"marker\": {\n                \"line\": {\n                    \"color\": \"#FFFFFF\",\n                    \"width\": 2\n                    },\n                \"colors\": [\n                    \"rgb(178, 62, 39)\",\n                    \"rgb(119, 123, 132)\",\n                    \"rgb(21, 52, 140)\"\n                    ]\n                    },\n            \"insidetextfont\": {\n                \"color\": \"#FFFFFF\"\n                },\n            #\"domain\": {\"x\": [0, .48]},\n            \"name\": \"User Effort Group\",\n            \"hoverinfo\":\"label+percent+name\",\n            \"hole\": .4,\n            \"type\": \"pie\"\n        }],\n    \"layout\": {\n            \"title\":\"User effort perception exploring raw data\",\n            \"annotations\": [\n                {\n                    \"font\": {\n                        \"size\": 20\n                    },\n                    \"showarrow\": False,\n                    \"text\": \"Match 1\",\n                    \"x\": 0.5,\n                    \"y\": 0.5\n                }\n            ]\n        }\n     \n}\n\npy.iplot(fig, filename='userEffort_donut_m1')",
      "execution_count": 11,
      "outputs": [
        {
          "output_type": "execute_result",
          "execution_count": 11,
          "data": {
            "text/plain": "<plotly.tools.PlotlyDisplay object>",
            "text/html": "<iframe id=\"igraph\" scrolling=\"no\" style=\"border:none;\" seamless=\"seamless\" src=\"https://plot.ly/~irvinghg/121.embed\" height=\"525px\" width=\"100%\"></iframe>"
          },
          "metadata": {}
        }
      ]
    },
    {
      "metadata": {
        "trusted": true
      },
      "cell_type": "code",
      "source": "plot_url_donut1 = py.plot(fig);plot_url_donut1",
      "execution_count": 12,
      "outputs": [
        {
          "output_type": "execute_result",
          "execution_count": 12,
          "data": {
            "text/plain": "u'https://plot.ly/~irvinghg/123'"
          },
          "metadata": {}
        }
      ]
    },
    {
      "metadata": {
        "trusted": true
      },
      "cell_type": "code",
      "source": "# User effor --pie chart--\nfig = {\n    \"data\": [\n        {\n            \"values\": effort_groups2,\n            \"labels\": ['Low','Regular','High'],\n            \"marker\": {\n                \"line\": {\n                    \"color\": \"#FFFFFF\",\n                    \"width\": 2\n                    },\n                \"colors\": [\n                    \"rgb(178, 62, 39)\",\n                    \"rgb(119, 123, 132)\",\n                    \"rgb(21, 52, 140)\"\n                    ]\n                    },\n            \"insidetextfont\": {\n                \"color\": \"#FFFFFF\"\n                },\n            #\"domain\": {\"x\": [0, .48]},\n            \"name\": \"User Effort Group\",\n            \"hoverinfo\":\"label+percent+name\",\n            \"hole\": .4,\n            \"type\": \"pie\"\n        }],\n    \"layout\": {\n            \"title\":\"User effort perception exploring views\",\n            \"annotations\": [\n                {\n                    \"font\": {\n                        \"size\": 20\n                    },\n                    \"showarrow\": False,\n                    \"text\": \"Match 2\",\n                    \"x\": 0.5,\n                    \"y\": 0.5\n                }\n            ]\n        }\n     \n}\n\npy.iplot(fig, filename='userEffort_donut_m2')",
      "execution_count": 13,
      "outputs": [
        {
          "output_type": "execute_result",
          "execution_count": 13,
          "data": {
            "text/plain": "<plotly.tools.PlotlyDisplay object>",
            "text/html": "<iframe id=\"igraph\" scrolling=\"no\" style=\"border:none;\" seamless=\"seamless\" src=\"https://plot.ly/~irvinghg/125.embed\" height=\"525px\" width=\"100%\"></iframe>"
          },
          "metadata": {}
        }
      ]
    },
    {
      "metadata": {
        "trusted": true
      },
      "cell_type": "code",
      "source": "plot_url_donut2 = py.plot(fig);plot_url_donut2",
      "execution_count": 14,
      "outputs": [
        {
          "output_type": "execute_result",
          "execution_count": 14,
          "data": {
            "text/plain": "u'https://plot.ly/~irvinghg/127'"
          },
          "metadata": {}
        }
      ]
    },
    {
      "metadata": {
        "trusted": true
      },
      "cell_type": "code",
      "source": "# Line and Scatter Plots\nplotly.tools.set_credentials_file(username='irvinghg', api_key='1B3oHF0vwgLpowDqVAa7')\n\n# Create traces\ntrace0 = go.Scatter(\n    x = results_m1['qid'],\n    y = results_m1['calculated_effort'],\n    mode = 'lines+markers',\n    name = 'Exploring raw data'\n)\ntrace1 = go.Scatter(\n    x = results_m2['qid'],\n    y = results_m2['calculated_effort'],\n    mode = 'lines+markers',\n    name = 'Exploring views'\n)\n\nlayout = dict(title = 'Calculated effort (time/core ratio)',\n              yaxis = dict(zeroline = False),\n              xaxis = dict(zeroline = False)\n             )\n\ndata = [trace0, trace1]\nfig = dict(data=data, layout=layout)\n\npy.iplot(fig, filename='calculatedEffort_Scattered')",
      "execution_count": 15,
      "outputs": [
        {
          "output_type": "execute_result",
          "execution_count": 15,
          "data": {
            "text/plain": "<plotly.tools.PlotlyDisplay object>",
            "text/html": "<iframe id=\"igraph\" scrolling=\"no\" style=\"border:none;\" seamless=\"seamless\" src=\"https://plot.ly/~irvinghg/129.embed\" height=\"525px\" width=\"100%\"></iframe>"
          },
          "metadata": {}
        }
      ]
    },
    {
      "metadata": {
        "trusted": true
      },
      "cell_type": "code",
      "source": "plot_url_calc = py.plot(fig);plot_url_calc",
      "execution_count": 16,
      "outputs": [
        {
          "output_type": "execute_result",
          "execution_count": 16,
          "data": {
            "text/plain": "u'https://plot.ly/~irvinghg/131'"
          },
          "metadata": {}
        }
      ]
    },
    {
      "metadata": {
        "trusted": true
      },
      "cell_type": "code",
      "source": "print(plot_url_bar)\nprint(plot_url_calc)\nprint(plot_url_mult)\nprint(plot_url_donut1)\nprint(plot_url_donut2)",
      "execution_count": 17,
      "outputs": [
        {
          "output_type": "stream",
          "text": "https://plot.ly/~irvinghg/119\nhttps://plot.ly/~irvinghg/131\nhttps://plot.ly/~irvinghg/115\nhttps://plot.ly/~irvinghg/123\nhttps://plot.ly/~irvinghg/127\n",
          "name": "stdout"
        }
      ]
    },
    {
      "metadata": {
        "trusted": true
      },
      "cell_type": "code",
      "source": "my_dboard = dashboard.Dashboard()\nmy_dboard.get_preview()\n\nbox_1 = {\n    'type': 'box',\n    'boxType': 'plot',\n    'fileId': 'irvinghg:'+ plot_url_bar.rsplit('/', 1)[-1],\n    'title': 'question-time-bar'\n}\n\nbox_2 = {\n    'type': 'box',\n    'boxType': 'plot',\n    'fileId': 'irvinghg:'+ plot_url_calc.rsplit('/', 1)[-1],\n    'title': 'calculatedEffort_Scattered'\n}\n\nbox_3 = {\n    'type': 'box',\n    'boxType': 'plot',\n    'fileId': 'irvinghg:'+ plot_url_mult.rsplit('/', 1)[-1],\n    'title': 'score-multiple'\n}\n\nbox_4 = {\n    'type': 'box',\n    'boxType': 'plot',\n    'fileId': 'irvinghg:'+ plot_url_donut1.rsplit('/', 1)[-1],\n    'title': 'userEffort_donut_m1'\n}\n \nbox_5 = {\n    'type': 'box',\n    'boxType': 'plot',\n    'fileId': 'irvinghg:'+ plot_url_donut2.rsplit('/', 1)[-1],\n    'title': 'userEffort_donut_m2'\n}\n \n\nmy_dboard.insert(box_2)             # scattered\nmy_dboard.insert(box_1, 'above', 1) # time bar\nmy_dboard.insert(box_4, 'below', 2) # donut 1\nmy_dboard.insert(box_5, 'right', 3) # donut 2\nmy_dboard.insert(box_3, 'right', 2) # multiple\n\n\npy.dashboard_ops.upload(my_dboard, 'game-dash1000')",
      "execution_count": 32,
      "outputs": [
        {
          "output_type": "execute_result",
          "execution_count": 32,
          "data": {
            "text/plain": "u'https://plot.ly/~irvinghg/44/untitled-dashboard/'"
          },
          "metadata": {}
        }
      ]
    },
    {
      "metadata": {
        "trusted": true
      },
      "cell_type": "code",
      "source": "print(py.dashboard_ops.upload(my_dboard, 'game-dash1000'))",
      "execution_count": 33,
      "outputs": [
        {
          "output_type": "stream",
          "text": "https://plot.ly/~irvinghg/44/untitled-dashboard/\n",
          "name": "stdout"
        }
      ]
    }
  ],
  "metadata": {
    "kernelspec": {
      "name": "python2",
      "display_name": "Python 2",
      "language": "python"
    },
    "language_info": {
      "mimetype": "text/x-python",
      "nbconvert_exporter": "python",
      "name": "python",
      "pygments_lexer": "ipython2",
      "version": "2.7.15",
      "file_extension": ".py",
      "codemirror_mode": {
        "version": 2,
        "name": "ipython"
      }
    }
  },
  "nbformat": 4,
  "nbformat_minor": 1
}