{
  "cells": [
    {
      "metadata": {
        "collapsed": true,
        "trusted": false
      },
      "cell_type": "markdown",
      "source": "# Excecute every cell independently from top to bottom"
    },
    {
      "metadata": {
        "trusted": true
      },
      "cell_type": "code",
      "source": "import pandas as pd\nimport timeit",
      "execution_count": 8,
      "outputs": []
    },
    {
      "metadata": {},
      "cell_type": "markdown",
      "source": "# Raw Stack overflow data dump from January 1rst to January 4th 2018 \n\n## January 1rst 2018\n### Badges"
    },
    {
      "metadata": {},
      "cell_type": "markdown",
      "source": "### Comments"
    },
    {
      "metadata": {},
      "cell_type": "markdown",
      "source": "### Posts"
    },
    {
      "metadata": {},
      "cell_type": "markdown",
      "source": "### Users"
    },
    {
      "metadata": {},
      "cell_type": "markdown",
      "source": "### Votes"
    },
    {
      "metadata": {},
      "cell_type": "markdown",
      "source": "## January 2nd 2018\n### Badges"
    },
    {
      "metadata": {},
      "cell_type": "markdown",
      "source": "### Comments"
    },
    {
      "metadata": {},
      "cell_type": "markdown",
      "source": "### Posts"
    },
    {
      "metadata": {},
      "cell_type": "markdown",
      "source": "### Users"
    },
    {
      "metadata": {},
      "cell_type": "markdown",
      "source": "### Votes"
    },
    {
      "metadata": {},
      "cell_type": "markdown",
      "source": "## January 3rd 2018\n### Badges"
    },
    {
      "metadata": {},
      "cell_type": "markdown",
      "source": "### Comments"
    },
    {
      "metadata": {},
      "cell_type": "markdown",
      "source": "### Posts"
    },
    {
      "metadata": {},
      "cell_type": "markdown",
      "source": "### Users"
    },
    {
      "metadata": {},
      "cell_type": "markdown",
      "source": "### Votes"
    },
    {
      "metadata": {},
      "cell_type": "markdown",
      "source": "### Execution time"
    },
    {
      "metadata": {
        "trusted": true
      },
      "cell_type": "code",
      "source": "print (\"execution time: \" + str(elapsed) + \" s\")",
      "execution_count": 38,
      "outputs": [
        {
          "output_type": "stream",
          "text": "execution time: 7.663464799996291 s\n",
          "name": "stdout"
        }
      ]
    },
    {
      "metadata": {
        "trusted": true
      },
      "cell_type": "code",
      "source": "import ipywidgets as widgets\n#------------------------------------------------------------------ Q1 --------------------------------------------------------------------#\nbtn1=widgets.ToggleButton(value=False,description='Activate',disabled=False,button_style='info',tooltip='',icon='',visibility = 'visible')\n#timeLbl1=widgets.Text(value='0',description='',disabled=True)\nq1 = widgets.RadioButtons(options=['January 1rst 2018', 'January 2nd 2018', 'January 3rd 2018'],value=None,description='Release:',disabled=True)\n#------------------------------------------------------------------------------------------------------------------------------------------#\n#------------------------------------------------------------------ Q2 --------------------------------------------------------------------#\nbtn2=widgets.ToggleButton(value=False,description='Activate',disabled=False,button_style='info',tooltip='',icon='',visibility = 'visible')\n#timeLbl2=widgets.Text(value='0',description='',disabled=True)\nq2 = widgets.RadioButtons(options=['January 1rst 2018', 'January 2nd 2018', 'January 3rd 2018'],value=None,description='Release:',disabled=True)\n#------------------------------------------------------------------------------------------------------------------------------------------#\n#------------------------------------------------------------------ Q3 --------------------------------------------------------------------#\nbtn3=widgets.ToggleButton(value=False,description='Activate',disabled=False,button_style='info',tooltip='',icon='',visibility = 'visible')\n#timeLbl3=widgets.Text(value='0',description='',disabled=True)\nq3 = widgets.RadioButtons(options=['January 1rst 2018', 'January 2nd 2018', 'January 3rd 2018'],value=None,description='Release:',disabled=True)\n#------------------------------------------------------------------------------------------------------------------------------------------#\n#------------------------------------------------------------------ Q4 --------------------------------------------------------------------#\nbtn4=widgets.ToggleButton(value=False,description='Activate',disabled=False,button_style='info',tooltip='',icon='',visibility = 'visible')\n#timeLbl4=widgets.Text(value='0',description='',disabled=True)\nq4 = widgets.Dropdown(options=['Id','PostTypeId','AcceptedAnswerId','ParentId','CreationDate','DeletionDate','Score','ViewCount','Body','OwnerUserId','OwnerDisplayName','LastEditorUserId','LastEditorDisplayName','LastEditDate','LastActivityDate','Title','Tags','AnswerCount','CommentCount','FavoriteCount','ClosedDate','CommunityOwnedDate'],\n    value=None,description='Attribute:',disabled=True,)\n#------------------------------------------------------------------------------------------------------------------------------------------#\n#------------------------------------------------------------------ Q5 --------------------------------------------------------------------#\nbtn5=widgets.ToggleButton(value=False,description='Activate',disabled=False,button_style='info',tooltip='',icon='',visibility = 'visible')\n#timeLbl5=widgets.Text(value='0',description='',disabled=True)\ndrop_options = [['--','Id','UserId','Name','Date','Class','TagBased'],\n                ['--','Id','PostId','Score','Text','CreationDate','UserDisplayName','UserId'],\n               ['--','Id','PostTypeId','AcceptedAnswerId','ParentId','CreationDate','DeletionDate','Score','ViewCount','Body','OwnerUserId','OwnerDisplayName','LastEditorUserId','LastEditorDisplayName','LastEditDate','LastActivityDate','Title','Tags','AnswerCount','CommentCount','FavoriteCount','ClosedDate','CommunityOwnedDate'],\n               ['--','Id','Reputation','CreationDate','DisplayName','LastAccessDate','WebsiteUrl','Location','AboutMe','Views','UpVotes','DownVotes','ProfileImageUrl','EmailHash','AccountId'],\n               ['--','Id','PostId','VoteTypeId','UserId','CreationDate','BountyAmount']]\nchildren = [widgets.Dropdown(options=name,description='',value=None) for name in drop_options]\ntab = widgets.Tab()\ntab.children = children\nitems=['Badges', 'Comments', 'Posts', 'Users', 'Votes']\nfor i in range(len(items)):\n    tab.set_title(i, items[i])\nq5=tab\n#------------------------------------------------------------------------------------------------------------------------------------------#\n#------------------------------------------------------------------ Q6 --------------------------------------------------------------------#\nbtn6=widgets.ToggleButton(value=False,description='Activate',disabled=False,button_style='info',tooltip='',icon='',visibility = 'visible')\n#timeLbl6=widgets.Text(value='0',description='',disabled=True)\nq6= widgets.RadioButtons(options=['Yes', 'No'],value=None,description='',disabled=False)\n#------------------------------------------------------------------------------------------------------------------------------------------#\n#------------------------------------------------------------------ Q7 --------------------------------------------------------------------#\nbtn7=widgets.ToggleButton(value=False,description='Activate',disabled=False,button_style='info',tooltip='',icon='',visibility = 'visible')\n#timeLbl7=widgets.Text(value='0',description='',disabled=True)\nchildren2 = [widgets.Dropdown(options=name,value=None) for name in drop_options]\ntab2 = widgets.Tab()\ntab2.children = children2\nfor i in range(len(items)):\n    tab2.set_title(i, items[i])\nq7=tab2\n#------------------------------------------------------------------------------------------------------------------------------------------#\n\n#------------------------------------------------------- Effort questions -----------------------------------------------------------------#\neffortW = []\nfor e in range(7):\n    effortW.append(widgets.ToggleButtons(options=['Low', 'Regular', 'High'],description='Select Effort:',disabled=False,value=None))  \n\ntimeLblW = []\nfor t in range(7):\n    timeLblW.append(widgets.Text(value='0',description='',disabled=True))  \n    \n# Timer function    \nimport time, threading\n# btn - receive a button object\n# lbl - receive a label object\n#    we use lbl.value to get timer value\n# q - receive a multiple option object\n#    we use q.value to get answered value\ndef timer(btn,lbl,q):        \n\n    cnt =int(lbl.value)   \n    on=btn.value \n    desc=q.description\n\n    if desc!='Submitted':\n        if on==True:      \n            threading.Timer(1, timer, [btn,lbl,q]).start()\n            cnt = cnt+1                        \n            lbl.value = str(cnt)\n            btn.description='Submit answer'\n            q.disabled=False\n\n        elif on==False:\n            threading.Timer(1, timer, [btn,lbl,q]).start()\n            btn.description='Activate'\n            q.disabled=True\n\n        else:\n            None\n\n    if cnt!=0 and btn.description=='Activate':\n        threading.Timer(1, timer, [btn,lbl,q]).start()\n        q.description='Submitted'\n        btn.visibility='hidden'\n        btn.description='--'\n        btn.disbled=True  \n\ndef timerTab(btn,lbl,q):        \n\n    cnt=int(lbl.value)   \n    on=btn.value \n    desc=q.children[0].description\n\n    if desc!='Submitted':\n        if on==True:      \n            threading.Timer(1, timerTab, [btn,lbl,q]).start()\n            cnt = cnt+1                        \n            lbl.value = str(cnt)\n            btn.description='Submit answer'\n            for i in range(len(q.children)):\n                q.children[i].disabled=False\n\n        elif on==False:\n            threading.Timer(1, timerTab, [btn,lbl,q]).start()\n            btn.description='Activate'\n            for i in range(len(q.children)):\n                q.children[i].disabled=True\n\n        else:\n            None\n\n    if cnt!=0 and btn.description=='Activate':\n        threading.Timer(1, timerTab, [btn,lbl,q]).start()\n        for i in range(len(q.children)):\n            q.children[i].description='Submitted'\n        btn.visibility='hidden'\n        btn.description='--'\n        btn.disbled=True                        ",
      "execution_count": 39,
      "outputs": []
    },
    {
      "metadata": {},
      "cell_type": "markdown",
      "source": "# Tasks"
    },
    {
      "metadata": {},
      "cell_type": "markdown",
      "source": "## Q1. Which is the release with best quality? (less missing, nulls and default values)"
    },
    {
      "metadata": {
        "trusted": true
      },
      "cell_type": "code",
      "source": "timeLblW[0]",
      "execution_count": 40,
      "outputs": [
        {
          "output_type": "display_data",
          "data": {
            "application/vnd.jupyter.widget-view+json": {
              "model_id": "c32c1c6ab246411caa9aa48bb8afd651",
              "version_minor": 0,
              "version_major": 2
            },
            "text/plain": "Text(value='0', disabled=True)"
          },
          "metadata": {}
        }
      ]
    },
    {
      "metadata": {
        "trusted": true
      },
      "cell_type": "code",
      "source": "btn1",
      "execution_count": 41,
      "outputs": [
        {
          "output_type": "display_data",
          "data": {
            "application/vnd.jupyter.widget-view+json": {
              "model_id": "a2660c424ca7478b970bace4ff3ec308",
              "version_minor": 0,
              "version_major": 2
            },
            "text/plain": "ToggleButton(value=False, button_style='info', description='Activate')"
          },
          "metadata": {}
        }
      ]
    },
    {
      "metadata": {
        "trusted": true
      },
      "cell_type": "code",
      "source": "q1",
      "execution_count": 42,
      "outputs": [
        {
          "output_type": "display_data",
          "data": {
            "application/vnd.jupyter.widget-view+json": {
              "model_id": "1566ad06353140b9b77c4213522fa317",
              "version_minor": 0,
              "version_major": 2
            },
            "text/plain": "RadioButtons(description='Release:', disabled=True, options=('January 1rst 2018', 'January 2nd 2018', 'January…"
          },
          "metadata": {}
        }
      ]
    },
    {
      "metadata": {
        "trusted": true
      },
      "cell_type": "code",
      "source": "timer(btn1,timeLblW[0],q1)",
      "execution_count": 43,
      "outputs": []
    },
    {
      "metadata": {},
      "cell_type": "markdown",
      "source": "### Q1.1 Effort to answer the question"
    },
    {
      "metadata": {
        "trusted": true
      },
      "cell_type": "code",
      "source": "effortW[0]",
      "execution_count": 44,
      "outputs": [
        {
          "output_type": "display_data",
          "data": {
            "application/vnd.jupyter.widget-view+json": {
              "model_id": "9c738b675fe2429bbf2ccb285deee26f",
              "version_minor": 0,
              "version_major": 2
            },
            "text/plain": "ToggleButtons(description='Select Effort:', options=('Low', 'Regular', 'High'), value=None)"
          },
          "metadata": {}
        }
      ]
    },
    {
      "metadata": {},
      "cell_type": "markdown",
      "source": "## Q2. Which release has the most number of records?"
    },
    {
      "metadata": {
        "trusted": true
      },
      "cell_type": "code",
      "source": "timeLblW[1]",
      "execution_count": 45,
      "outputs": [
        {
          "output_type": "display_data",
          "data": {
            "application/vnd.jupyter.widget-view+json": {
              "model_id": "6aea127dd7254b41af9aeb437bb7acfe",
              "version_minor": 0,
              "version_major": 2
            },
            "text/plain": "Text(value='0', disabled=True)"
          },
          "metadata": {}
        }
      ]
    },
    {
      "metadata": {
        "trusted": true
      },
      "cell_type": "code",
      "source": "btn2",
      "execution_count": 46,
      "outputs": [
        {
          "output_type": "display_data",
          "data": {
            "application/vnd.jupyter.widget-view+json": {
              "model_id": "a8f94abbe2e2414e8a18549148ff2ff5",
              "version_minor": 0,
              "version_major": 2
            },
            "text/plain": "ToggleButton(value=False, button_style='info', description='Activate')"
          },
          "metadata": {}
        }
      ]
    },
    {
      "metadata": {
        "trusted": true
      },
      "cell_type": "code",
      "source": "q2",
      "execution_count": 47,
      "outputs": [
        {
          "output_type": "display_data",
          "data": {
            "application/vnd.jupyter.widget-view+json": {
              "model_id": "124cb8f10a5c4a53b63ed96b3bfd949a",
              "version_minor": 0,
              "version_major": 2
            },
            "text/plain": "RadioButtons(description='Release:', disabled=True, options=('January 1rst 2018', 'January 2nd 2018', 'January…"
          },
          "metadata": {}
        }
      ]
    },
    {
      "metadata": {
        "trusted": true
      },
      "cell_type": "code",
      "source": "timer(btn2,timeLblW[1],q2)",
      "execution_count": 48,
      "outputs": []
    },
    {
      "metadata": {},
      "cell_type": "markdown",
      "source": "### Q2.1 Effort to answer the question"
    },
    {
      "metadata": {
        "trusted": true
      },
      "cell_type": "code",
      "source": "effortW[1]",
      "execution_count": 49,
      "outputs": [
        {
          "output_type": "display_data",
          "data": {
            "application/vnd.jupyter.widget-view+json": {
              "model_id": "509889b6696d43f9b61f12b756efea4f",
              "version_minor": 0,
              "version_major": 2
            },
            "text/plain": "ToggleButtons(description='Select Effort:', options=('Low', 'Regular', 'High'), value=None)"
          },
          "metadata": {}
        }
      ]
    },
    {
      "metadata": {},
      "cell_type": "markdown",
      "source": "## Q3. Which is the release where _UpVote_ attribute from _Users_ item is more spread?"
    },
    {
      "metadata": {
        "trusted": true
      },
      "cell_type": "code",
      "source": "timeLblW[2]",
      "execution_count": 50,
      "outputs": [
        {
          "output_type": "display_data",
          "data": {
            "application/vnd.jupyter.widget-view+json": {
              "model_id": "d16322fb91f6468cb606e6a0479356f1",
              "version_minor": 0,
              "version_major": 2
            },
            "text/plain": "Text(value='0', disabled=True)"
          },
          "metadata": {}
        }
      ]
    },
    {
      "metadata": {
        "trusted": true
      },
      "cell_type": "code",
      "source": "btn3",
      "execution_count": 51,
      "outputs": [
        {
          "output_type": "display_data",
          "data": {
            "application/vnd.jupyter.widget-view+json": {
              "model_id": "13729011af24417bbc9723acb3b847e5",
              "version_minor": 0,
              "version_major": 2
            },
            "text/plain": "ToggleButton(value=False, button_style='info', description='Activate')"
          },
          "metadata": {}
        }
      ]
    },
    {
      "metadata": {
        "trusted": true
      },
      "cell_type": "code",
      "source": "q3",
      "execution_count": 52,
      "outputs": [
        {
          "output_type": "display_data",
          "data": {
            "application/vnd.jupyter.widget-view+json": {
              "model_id": "1ce605b7e1de4b13b1c86b36e4b09b70",
              "version_minor": 0,
              "version_major": 2
            },
            "text/plain": "RadioButtons(description='Release:', disabled=True, options=('January 1rst 2018', 'January 2nd 2018', 'January…"
          },
          "metadata": {}
        }
      ]
    },
    {
      "metadata": {
        "trusted": true
      },
      "cell_type": "code",
      "source": "timer(btn3,timeLblW[2],q3)",
      "execution_count": 53,
      "outputs": []
    },
    {
      "metadata": {},
      "cell_type": "markdown",
      "source": "### Q3.1 Effort to answer the question"
    },
    {
      "metadata": {
        "trusted": true
      },
      "cell_type": "code",
      "source": "effortW[2]",
      "execution_count": 54,
      "outputs": [
        {
          "output_type": "display_data",
          "data": {
            "application/vnd.jupyter.widget-view+json": {
              "model_id": "583a771b154040a5beaf53b1fa88796d",
              "version_minor": 0,
              "version_major": 2
            },
            "text/plain": "ToggleButtons(description='Select Effort:', options=('Low', 'Regular', 'High'), value=None)"
          },
          "metadata": {}
        }
      ]
    },
    {
      "metadata": {},
      "cell_type": "markdown",
      "source": "## Q4. Which attribute from _Posts_ item can be used to compute answers' popularity and author's reputation (started answered and authors)"
    },
    {
      "metadata": {
        "trusted": true
      },
      "cell_type": "code",
      "source": "timeLblW[3]",
      "execution_count": 55,
      "outputs": [
        {
          "output_type": "display_data",
          "data": {
            "application/vnd.jupyter.widget-view+json": {
              "model_id": "7f31395cf78e43faa8328d74557113d2",
              "version_minor": 0,
              "version_major": 2
            },
            "text/plain": "Text(value='0', disabled=True)"
          },
          "metadata": {}
        }
      ]
    },
    {
      "metadata": {
        "trusted": true
      },
      "cell_type": "code",
      "source": "btn4",
      "execution_count": 56,
      "outputs": [
        {
          "output_type": "display_data",
          "data": {
            "application/vnd.jupyter.widget-view+json": {
              "model_id": "0056482e1a81408489409aa70e690965",
              "version_minor": 0,
              "version_major": 2
            },
            "text/plain": "ToggleButton(value=False, button_style='info', description='Activate')"
          },
          "metadata": {}
        }
      ]
    },
    {
      "metadata": {
        "trusted": true
      },
      "cell_type": "code",
      "source": "q4",
      "execution_count": 57,
      "outputs": [
        {
          "output_type": "display_data",
          "data": {
            "application/vnd.jupyter.widget-view+json": {
              "model_id": "c28bac00ca904d31b41f954e51240861",
              "version_minor": 0,
              "version_major": 2
            },
            "text/plain": "Dropdown(description='Attribute:', disabled=True, options=('Id', 'PostTypeId', 'AcceptedAnswerId', 'ParentId',…"
          },
          "metadata": {}
        }
      ]
    },
    {
      "metadata": {
        "trusted": true
      },
      "cell_type": "code",
      "source": "timer(btn4,timeLblW[3],q4)",
      "execution_count": 58,
      "outputs": []
    },
    {
      "metadata": {},
      "cell_type": "markdown",
      "source": "### Q4.1 Effort to answer the question"
    },
    {
      "metadata": {
        "trusted": true
      },
      "cell_type": "code",
      "source": "effortW[3]",
      "execution_count": 59,
      "outputs": [
        {
          "output_type": "display_data",
          "data": {
            "application/vnd.jupyter.widget-view+json": {
              "model_id": "f7778c80777d4e569939ef221d81830b",
              "version_minor": 0,
              "version_major": 2
            },
            "text/plain": "ToggleButtons(description='Select Effort:', options=('Low', 'Regular', 'High'), value=None)"
          },
          "metadata": {}
        }
      ]
    },
    {
      "metadata": {},
      "cell_type": "markdown",
      "source": "## Q5. Which is/are the attribute(s) that can be used to identify the most trendy topic addressed in the release?"
    },
    {
      "metadata": {
        "trusted": true
      },
      "cell_type": "code",
      "source": "timeLblW[4]",
      "execution_count": 60,
      "outputs": [
        {
          "output_type": "display_data",
          "data": {
            "application/vnd.jupyter.widget-view+json": {
              "model_id": "a7ae2cb2767845d1b38dc09ff4ce05ce",
              "version_minor": 0,
              "version_major": 2
            },
            "text/plain": "Text(value='0', disabled=True)"
          },
          "metadata": {}
        }
      ]
    },
    {
      "metadata": {
        "trusted": true
      },
      "cell_type": "code",
      "source": "btn5",
      "execution_count": 61,
      "outputs": [
        {
          "output_type": "display_data",
          "data": {
            "application/vnd.jupyter.widget-view+json": {
              "model_id": "3444f896b6934df298cf25c11e8c4962",
              "version_minor": 0,
              "version_major": 2
            },
            "text/plain": "ToggleButton(value=False, button_style='info', description='Activate')"
          },
          "metadata": {}
        }
      ]
    },
    {
      "metadata": {
        "trusted": true,
        "scrolled": true
      },
      "cell_type": "code",
      "source": "q5",
      "execution_count": 62,
      "outputs": [
        {
          "output_type": "display_data",
          "data": {
            "application/vnd.jupyter.widget-view+json": {
              "model_id": "bdc5c72b4d08470b8653c58bc17ef101",
              "version_minor": 0,
              "version_major": 2
            },
            "text/plain": "Tab(children=(Dropdown(options=('--', 'Id', 'UserId', 'Name', 'Date', 'Class', 'TagBased'), value=None), Dropd…"
          },
          "metadata": {}
        }
      ]
    },
    {
      "metadata": {
        "trusted": true
      },
      "cell_type": "code",
      "source": "timerTab(btn5,timeLblW[4],q5)",
      "execution_count": 63,
      "outputs": []
    },
    {
      "metadata": {},
      "cell_type": "markdown",
      "source": "### Q5.1 Effort to answer the question"
    },
    {
      "metadata": {
        "trusted": true
      },
      "cell_type": "code",
      "source": "effortW[4]",
      "execution_count": 64,
      "outputs": [
        {
          "output_type": "display_data",
          "data": {
            "application/vnd.jupyter.widget-view+json": {
              "model_id": "6360693acd09441da10f4927122cecca",
              "version_minor": 0,
              "version_major": 2
            },
            "text/plain": "ToggleButtons(description='Select Effort:', options=('Low', 'Regular', 'High'), value=None)"
          },
          "metadata": {}
        }
      ]
    },
    {
      "metadata": {},
      "cell_type": "markdown",
      "source": "## Q6 Will missing, null, and default values bias observation of trends?"
    },
    {
      "metadata": {
        "trusted": true
      },
      "cell_type": "code",
      "source": "timeLblW[5]",
      "execution_count": 65,
      "outputs": [
        {
          "output_type": "display_data",
          "data": {
            "application/vnd.jupyter.widget-view+json": {
              "model_id": "e3e1d83d0cab4c95a23617c589224e57",
              "version_minor": 0,
              "version_major": 2
            },
            "text/plain": "Text(value='0', disabled=True)"
          },
          "metadata": {}
        }
      ]
    },
    {
      "metadata": {
        "trusted": true
      },
      "cell_type": "code",
      "source": "btn6",
      "execution_count": 66,
      "outputs": [
        {
          "output_type": "display_data",
          "data": {
            "application/vnd.jupyter.widget-view+json": {
              "model_id": "6f3d30f4e1a94a1f99698735b4db618c",
              "version_minor": 0,
              "version_major": 2
            },
            "text/plain": "ToggleButton(value=False, button_style='info', description='Activate')"
          },
          "metadata": {}
        }
      ]
    },
    {
      "metadata": {
        "trusted": true
      },
      "cell_type": "code",
      "source": "q6",
      "execution_count": 67,
      "outputs": [
        {
          "output_type": "display_data",
          "data": {
            "application/vnd.jupyter.widget-view+json": {
              "model_id": "2b68cff67c024e30a4988421af49dce0",
              "version_minor": 0,
              "version_major": 2
            },
            "text/plain": "RadioButtons(options=('Yes', 'No'), value=None)"
          },
          "metadata": {}
        }
      ]
    },
    {
      "metadata": {
        "trusted": true
      },
      "cell_type": "code",
      "source": "timer(btn6,timeLblW[5],q6)",
      "execution_count": 68,
      "outputs": []
    },
    {
      "metadata": {},
      "cell_type": "markdown",
      "source": "### Q6.1 Effort to answer the question"
    },
    {
      "metadata": {
        "trusted": true
      },
      "cell_type": "code",
      "source": "effortW[5]",
      "execution_count": 69,
      "outputs": [
        {
          "output_type": "display_data",
          "data": {
            "application/vnd.jupyter.widget-view+json": {
              "model_id": "e029d5861e8e4255928e6c0fbf4c8313",
              "version_minor": 0,
              "version_major": 2
            },
            "text/plain": "ToggleButtons(description='Select Effort:', options=('Low', 'Regular', 'High'), value=None)"
          },
          "metadata": {}
        }
      ]
    },
    {
      "metadata": {},
      "cell_type": "markdown",
      "source": "## Q7. Choose the attributes that can be used as sharging keys to fragment the release using a hash based and an interval based strategy"
    },
    {
      "metadata": {
        "trusted": true
      },
      "cell_type": "code",
      "source": "timeLblW[6]",
      "execution_count": 70,
      "outputs": [
        {
          "output_type": "display_data",
          "data": {
            "application/vnd.jupyter.widget-view+json": {
              "model_id": "3149993c24e043339c26cb1f4641de46",
              "version_minor": 0,
              "version_major": 2
            },
            "text/plain": "Text(value='0', disabled=True)"
          },
          "metadata": {}
        }
      ]
    },
    {
      "metadata": {
        "trusted": true
      },
      "cell_type": "code",
      "source": "btn7",
      "execution_count": 71,
      "outputs": [
        {
          "output_type": "display_data",
          "data": {
            "application/vnd.jupyter.widget-view+json": {
              "model_id": "008f48678de54948b7bc09e52f6933a1",
              "version_minor": 0,
              "version_major": 2
            },
            "text/plain": "ToggleButton(value=False, button_style='info', description='Activate')"
          },
          "metadata": {}
        }
      ]
    },
    {
      "metadata": {
        "trusted": true
      },
      "cell_type": "code",
      "source": "timerTab(btn7,timeLblW[6],q7)",
      "execution_count": 72,
      "outputs": []
    },
    {
      "metadata": {
        "trusted": true
      },
      "cell_type": "code",
      "source": "q7",
      "execution_count": 73,
      "outputs": [
        {
          "output_type": "display_data",
          "data": {
            "application/vnd.jupyter.widget-view+json": {
              "model_id": "2dc6e2f4dda841dc8ef4ae6d33106e70",
              "version_minor": 0,
              "version_major": 2
            },
            "text/plain": "Tab(children=(Dropdown(disabled=True, options=('--', 'Id', 'UserId', 'Name', 'Date', 'Class', 'TagBased'), val…"
          },
          "metadata": {}
        }
      ]
    },
    {
      "metadata": {},
      "cell_type": "markdown",
      "source": "### Q7.1 Effort to answer the question"
    },
    {
      "metadata": {
        "trusted": true
      },
      "cell_type": "code",
      "source": "effortW[6]",
      "execution_count": 74,
      "outputs": [
        {
          "output_type": "display_data",
          "data": {
            "application/vnd.jupyter.widget-view+json": {
              "model_id": "f37f9c32574b44f4b505d72442f402d1",
              "version_minor": 0,
              "version_major": 2
            },
            "text/plain": "ToggleButtons(description='Select Effort:', options=('Low', 'Regular', 'High'), value=None)"
          },
          "metadata": {}
        }
      ]
    },
    {
      "metadata": {},
      "cell_type": "markdown",
      "source": "## Get Match Results"
    },
    {
      "metadata": {
        "trusted": true
      },
      "cell_type": "code",
      "source": "# collect user effort \ndef getUsrEfft:\n    userEffortL = []\n    for e in effortW:\n        userEffortL.append(e.value) \n        \n# collect time from answers\ndef getqTime:\n    qtimeL=[]\n    for t in timeLblW:\n        qtimeL.append(int(t.value))\n\n# tuple for answers\ndef getAns:\n    qans1=q1.options[2]\n    qans2=q2.options[0]\n    qans3=q3.options[1]\n    qans4=q4.options[3]\n    qans5=[q5.children[0].options[3],q5.children[1].options[0],q5.children[2].options[5],q5.children[3].options[5],q5.children[4].options[0]]\n    qans6=q6.options[0]\n    qans7=[q7.children[0].options[3],q7.children[1].options[0],q7.children[2].options[5],q7.children[3].options[5],q7.children[4].options[0]]\n    qans = [qans1,qans2,qans3,qans4,qans5,qans6,qans7]\n\n    scoreL = [0.0]*7\n\n    if q1.value == qans1: scoreL[0]=1 \n    if q2.value == qans2: scoreL[1]=1 \n    if q3.value == qans3: scoreL[2]=1 \n    if q4.value == qans4: scoreL[3]=1 \n\n    if qans5[0] == q5.children[0].value: scoreL[4]=scoreL[4] + 0.2\n    if qans5[1] == q5.children[1].value: scoreL[4]=scoreL[4] + 0.2\n    if qans5[2] == q5.children[2].value: scoreL[4]=scoreL[4] + 0.2\n    if qans5[3] == q5.children[3].value: scoreL[4]=scoreL[4] + 0.2\n    if qans5[4] == q5.children[4].value: scoreL[4]=scoreL[4] + 0.2\n\n    if q6.value ==qans6: scoreL[5]=1\n\n    if qans7[0] == q7.children[0].value: scoreL[6]=scoreL[6] + 0.2\n    if qans7[1] == q7.children[1].value: scoreL[6]=scoreL[6] + 0.2\n    if qans7[2] == q7.children[2].value: scoreL[6]=scoreL[6] + 0.2\n    if qans7[3] == q7.children[3].value: scoreL[6]=scoreL[6] + 0.2\n    if qans7[4] == q7.children[4].value: scoreL[6]=scoreL[6] + 0.2\n        \n# calculated effort\ndef getCalcEffrt:\n    calcEffortL = []\n    maxcEffort = 100\n    for i in range(0,len(scoreL)):\n        if scoreL[i] == 0: \n            calcEffortL.append(maxcEffort)\n        else:\n            if int(qtimeL[i]) > 300: qtimeL[i] = 300 # 5 min limit\n            tmp=int(qtimeL[i])/scoreL[i]\n            calcEffortL.append((tmp*100)/1800)            ",
      "execution_count": 112,
      "outputs": []
    },
    {
      "metadata": {
        "trusted": true
      },
      "cell_type": "code",
      "source": "import csv\n# qid | time | score | user_effort | calculated_effort | execution_time (cpu)\nheader=['qid', 'score', 'time', 'user_effort', 'calculated_effort', 'execution_time'] \nqid=list(range(1,8))\nelapsedL = [elapsed]*7\ngetUsrEfft()\ngetqTime()\ngetAns()\ngetCalcEffrt()\n\nrows = zip(qid,scoreL,qtimeL,userEffortL,calcEffortL,elapsedL)\n\nwith open(\"../results/match1.csv\", mode=\"w\") as f:\n    #writer = csv.writer(f, delimiter=',', quotechar='\"', quoting=csv.QUOTE_MINIMAL)\n    writer = csv.writer(f, delimiter=',')\n    writer.writerow(header)\n    for row in rows:\n        writer.writerow(row)",
      "execution_count": 123,
      "outputs": []
    }
  ],
  "metadata": {
    "kernelspec": {
      "name": "python36",
      "display_name": "Python 3.6",
      "language": "python"
    },
    "language_info": {
      "mimetype": "text/x-python",
      "nbconvert_exporter": "python",
      "name": "python",
      "pygments_lexer": "ipython3",
      "version": "3.6.6",
      "file_extension": ".py",
      "codemirror_mode": {
        "version": 3,
        "name": "ipython"
      }
    }
  },
  "nbformat": 4,
  "nbformat_minor": 2
}