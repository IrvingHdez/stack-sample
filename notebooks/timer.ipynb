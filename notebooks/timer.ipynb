{
  "cells": [
    {
      "metadata": {
        "trusted": true
      },
      "cell_type": "code",
      "source": "import time, threading\nimport ipywidgets as widgets",
      "execution_count": 1,
      "outputs": []
    },
    {
      "metadata": {
        "trusted": true
      },
      "cell_type": "code",
      "source": "strtClck=widgets.ToggleButton(value=False,description='Start/Stop clock',disabled=False,button_style='info',tooltip='',icon='');strtClck",
      "execution_count": 2,
      "outputs": [
        {
          "output_type": "display_data",
          "data": {
            "application/vnd.jupyter.widget-view+json": {
              "model_id": "17bb8616c5184581b97c3b7f8d633e99",
              "version_minor": 0,
              "version_major": 2
            },
            "text/plain": "ToggleButton(value=False, button_style='info', description='Start/Stop clock')"
          },
          "metadata": {}
        }
      ]
    },
    {
      "metadata": {
        "trusted": true
      },
      "cell_type": "code",
      "source": "timeLbl= widgets.Text(value='0',description='',disabled=True);timeLbl",
      "execution_count": 3,
      "outputs": [
        {
          "output_type": "display_data",
          "data": {
            "application/vnd.jupyter.widget-view+json": {
              "model_id": "95af07d63f864742b56e3b62abea9c36",
              "version_minor": 0,
              "version_major": 2
            },
            "text/plain": "Text(value='0', disabled=True)"
          },
          "metadata": {}
        }
      ]
    },
    {
      "metadata": {
        "trusted": true
      },
      "cell_type": "code",
      "source": "cnt=0\non= strtClck.value\ndef timer():    \n    global cnt\n    global on\n    on=strtClck.value\n    \n    if on==True:        \n        threading.Timer(1, timer).start()\n        cnt = cnt+1                \n        timeLbl.value = str(cnt)\n        strtClck.description='Stop'\n       \n    elif on==False:\n        threading.Timer(1, timer).start()        \n        strtClck.description='Start'\n\n    else: \n        None\n\ntimer()",
      "execution_count": 4,
      "outputs": []
    },
    {
      "metadata": {
        "trusted": true
      },
      "cell_type": "code",
      "source": "timeLbl.layout.visibility = 'visible' # 'hidden'",
      "execution_count": null,
      "outputs": []
    }
  ],
  "metadata": {
    "kernelspec": {
      "name": "python36",
      "display_name": "Python 3.6",
      "language": "python"
    },
    "language_info": {
      "mimetype": "text/x-python",
      "nbconvert_exporter": "python",
      "name": "python",
      "pygments_lexer": "ipython3",
      "version": "3.6.6",
      "file_extension": ".py",
      "codemirror_mode": {
        "version": 3,
        "name": "ipython"
      }
    }
  },
  "nbformat": 4,
  "nbformat_minor": 2
}