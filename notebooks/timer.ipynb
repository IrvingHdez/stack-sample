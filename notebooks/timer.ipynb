{
  "cells": [
    {
      "metadata": {
        "trusted": true
      },
      "cell_type": "code",
      "source": "import time, threading\nimport ipywidgets as widgets",
      "execution_count": 1,
      "outputs": []
    },
    {
      "metadata": {
        "trusted": true
      },
      "cell_type": "code",
      "source": "strtClck1=widgets.ToggleButton(value=False,description='Start',disabled=False,button_style='info',tooltip='',icon='',visibility = 'visible');strtClck1 # 'hidden'",
      "execution_count": 2,
      "outputs": [
        {
          "output_type": "display_data",
          "data": {
            "application/vnd.jupyter.widget-view+json": {
              "model_id": "9c60f26e1acd448487f29580f5a945ce",
              "version_minor": 0,
              "version_major": 2
            },
            "text/plain": "ToggleButton(value=False, button_style='info', description='Start')"
          },
          "metadata": {}
        }
      ]
    },
    {
      "metadata": {
        "trusted": true
      },
      "cell_type": "code",
      "source": "timeLbl= widgets.Text(value='0',description='',disabled=True);timeLbl",
      "execution_count": 3,
      "outputs": [
        {
          "output_type": "display_data",
          "data": {
            "application/vnd.jupyter.widget-view+json": {
              "model_id": "70c7abfaccd949618e0255adb85d1f3a",
              "version_minor": 0,
              "version_major": 2
            },
            "text/plain": "Text(value='0', disabled=True)"
          },
          "metadata": {}
        }
      ]
    },
    {
      "metadata": {
        "trusted": true
      },
      "cell_type": "code",
      "source": "cnt=0\n\ndef timer(btn,lbl):        \n    \n    global cnt        \n    on=btn.value        \n    \n    if on==True:        \n        threading.Timer(1, timer, [btn,lbl]).start()\n        cnt = cnt+1                        \n        lbl.value = str(cnt)\n        btn.description='Stop'\n       \n    elif on==False:\n        threading.Timer(1, timer, [btn,lbl]).start()\n        btn.description='Start'\n\n    else: \n        None        \n    \ntimer(strtClck1,timeLbl)",
      "execution_count": 5,
      "outputs": []
    },
    {
      "metadata": {
        "trusted": true
      },
      "cell_type": "code",
      "source": "cnt",
      "execution_count": 6,
      "outputs": [
        {
          "output_type": "execute_result",
          "execution_count": 6,
          "data": {
            "text/plain": "3"
          },
          "metadata": {}
        }
      ]
    }
  ],
  "metadata": {
    "kernelspec": {
      "name": "python36",
      "display_name": "Python 3.6",
      "language": "python"
    },
    "language_info": {
      "mimetype": "text/x-python",
      "nbconvert_exporter": "python",
      "name": "python",
      "pygments_lexer": "ipython3",
      "version": "3.6.6",
      "file_extension": ".py",
      "codemirror_mode": {
        "version": 3,
        "name": "ipython"
      }
    }
  },
  "nbformat": 4,
  "nbformat_minor": 2
}