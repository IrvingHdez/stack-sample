{
 "cells": [
  {
   "cell_type": "markdown",
   "metadata": {},
   "source": [
    "# DEMO: Stackoverflow dump"
   ]
  },
  {
   "cell_type": "markdown",
   "metadata": {},
   "source": [
    "## CURARE data collection model"
   ]
  },
  {
   "cell_type": "markdown",
   "metadata": {},
   "source": [
    "#### Type your dataset's URL or leave default value"
   ]
  },
  {
   "cell_type": "code",
   "execution_count": 2,
   "metadata": {},
   "outputs": [],
   "source": [
    "import ipywidgets as widgets"
   ]
  },
  {
   "cell_type": "code",
   "execution_count": 3,
   "metadata": {},
   "outputs": [
    {
     "data": {
      "application/vnd.jupyter.widget-view+json": {
       "model_id": "87fa677658c4487d81925ef2a5129e7e",
       "version_major": 2,
       "version_minor": 0
      },
      "text/plain": [
       "Text(value='https://archive.org/download/stackexchange/stats.stackexchange.com.7z', description='Dataset url:'…"
      ]
     },
     "metadata": {},
     "output_type": "display_data"
    }
   ],
   "source": [
    "url_tb = widgets.Text(value='https://archive.org/download/stackexchange/stats.stackexchange.com.7z', description='Dataset url:', disabled=False); url_tb"
   ]
  },
  {
   "cell_type": "markdown",
   "metadata": {},
   "source": [
    "#### Type additional information about your dataset or leve default values"
   ]
  },
  {
   "cell_type": "code",
   "execution_count": 4,
   "metadata": {},
   "outputs": [
    {
     "data": {
      "application/vnd.jupyter.widget-view+json": {
       "model_id": "d5e9b0c5f6ef4458bae12c06fa963175",
       "version_major": 2,
       "version_minor": 0
      },
      "text/plain": [
       "Text(value='Stack Exchange, Inc.', description='provider:')"
      ]
     },
     "metadata": {},
     "output_type": "display_data"
    }
   ],
   "source": [
    "dbprovider_tb = widgets.Text(value='Stack Exchange, Inc.', description='provider:', disabled=False); dbprovider_tb"
   ]
  },
  {
   "cell_type": "code",
   "execution_count": 5,
   "metadata": {},
   "outputs": [
    {
     "data": {
      "application/vnd.jupyter.widget-view+json": {
       "model_id": "fcb42bb9fed646e18a9e4134be6cda4f",
       "version_major": 2,
       "version_minor": 0
      },
      "text/plain": [
       "Text(value='CC BY-SA 3.0', description='license:')"
      ]
     },
     "metadata": {},
     "output_type": "display_data"
    }
   ],
   "source": [
    "dblicense_tb = widgets.Text(value='CC BY-SA 3.0', description='license:', disabled=False); dblicense_tb"
   ]
  },
  {
   "cell_type": "code",
   "execution_count": 6,
   "metadata": {},
   "outputs": [
    {
     "data": {
      "application/vnd.jupyter.widget-view+json": {
       "model_id": "57dd374a7de14cbfa1e3f8421c7afff0",
       "version_major": 2,
       "version_minor": 0
      },
      "text/plain": [
       "Text(value='Stack Exchange Community', description='author:')"
      ]
     },
     "metadata": {},
     "output_type": "display_data"
    }
   ],
   "source": [
    "dbauthor_tb = widgets.Text(value='Stack Exchange Community', description='author:', disabled=False); dbauthor_tb"
   ]
  },
  {
   "cell_type": "code",
   "execution_count": 7,
   "metadata": {},
   "outputs": [
    {
     "data": {
      "application/vnd.jupyter.widget-view+json": {
       "model_id": "2749e9a9184141fcbf13e518bd76fe47",
       "version_major": 2,
       "version_minor": 0
      },
      "text/plain": [
       "Text(value='This is an anonymized dump of all user-contributed content on the Stack Exchange network. Each sit…"
      ]
     },
     "metadata": {},
     "output_type": "display_data"
    }
   ],
   "source": [
    "dbdesc_tb = widgets.Text(value='This is an anonymized dump of all user-contributed content on the Stack Exchange network. Each site is formatted as a separate archive consisting of XML files zipped via 7-zip using bzip2 compression. Each site archive includes Posts, Users, Votes, Comments, PostHistory and PostLinks.', \n",
    "                            description='description:', disabled=False); dbdesc_tb"
   ]
  },
  {
   "cell_type": "markdown",
   "metadata": {},
   "source": [
    "## Data Collection Model class creation"
   ]
  },
  {
   "cell_type": "code",
   "execution_count": 8,
   "metadata": {},
   "outputs": [
    {
     "name": "stdout",
     "output_type": "stream",
     "text": [
      "DataCollection class created!\n",
      "Release class created!\n",
      "Item class created!\n"
     ]
    }
   ],
   "source": [
    "%run /test/libraries/dataCollectionModel.py"
   ]
  },
  {
   "cell_type": "markdown",
   "metadata": {},
   "source": [
    "## Harvest Data from HTTP and Unarchived it <br/> or look in local folder"
   ]
  },
  {
   "cell_type": "code",
   "execution_count": 9,
   "metadata": {},
   "outputs": [],
   "source": [
    "import urllib.request\n",
    "import shutil\n",
    "from os import listdir\n",
    "import zipfile\n",
    "\n",
    "def dwnldUrl (_url, folder_name, file_name):            \n",
    "    \n",
    "    file_name = '/tmp/' + file_name # file will be downloaded in this location\n",
    "    # Download the file from 'url' and save it locally under 'file_name':\n",
    "    with urllib.request.urlopen(_url) as response, open(file_name, 'wb') as out_file:\n",
    "        shutil.copyfileobj(response, out_file)            \n",
    "    \n",
    "    # Unarchive data\n",
    "    zip_ref = zipfile.ZipFile(file_name, 'r')\n",
    "    zip_ref.extractall('/tmp/' + folder_name) # creates folder f1db_csv if it doesn't exist\n",
    "    zip_ref.close()\n",
    "\n",
    "    listFilePath = []\n",
    "    \n",
    "    for f in os.listdir('/tmp/' + folder_name):     \n",
    "        listFilePath.append('/tmp/' + folder_name + f)\n",
    "    \n",
    "    return listFilePath\n",
    "\n",
    "def getLocalFiles(_path):    \n",
    "    for f in os.listdir(_path):     \n",
    "        listFilePath.append(_path + f)\n",
    "    \n",
    "    return listFilePath"
   ]
  },
  {
   "cell_type": "code",
   "execution_count": 10,
   "metadata": {},
   "outputs": [
    {
     "data": {
      "application/vnd.jupyter.widget-view+json": {
       "model_id": "c351c63dd645479796d0509c7113cb4e",
       "version_major": 2,
       "version_minor": 0
      },
      "text/plain": [
       "Select(description='Source:', index=1, options=('Download from URL', 'Local Files'), rows=3, value='Local File…"
      ]
     },
     "metadata": {},
     "output_type": "display_data"
    }
   ],
   "source": [
    "selSource = widgets.Select(\n",
    "    options=['Download from URL', 'Local Files'],\n",
    "    value='Local Files',\n",
    "    rows=3,\n",
    "    description='Source:',\n",
    "    disabled=False\n",
    ")\n",
    "selSource"
   ]
  },
  {
   "cell_type": "code",
   "execution_count": 11,
   "metadata": {},
   "outputs": [
    {
     "data": {
      "application/vnd.jupyter.widget-view+json": {
       "model_id": "902ba57a85d64765946c0c2e3f39ac06",
       "version_major": 2,
       "version_minor": 0
      },
      "text/plain": [
       "Text(value='/test/stackexchange/release_09-10-18/cut/', description='path:')"
      ]
     },
     "metadata": {},
     "output_type": "display_data"
    }
   ],
   "source": [
    "dblocal_tb = widgets.Text(value='/test/stackexchange/release_09-10-18/cut/', description='path:', disabled=False); dblocal_tb"
   ]
  },
  {
   "cell_type": "code",
   "execution_count": 12,
   "metadata": {},
   "outputs": [
    {
     "name": "stdout",
     "output_type": "stream",
     "text": [
      "/test/stackexchange/release_09-10-18/cut/Badges.csv\n",
      "/test/stackexchange/release_09-10-18/cut/Comments.csv\n",
      "/test/stackexchange/release_09-10-18/cut/PostHistory.csv\n",
      "/test/stackexchange/release_09-10-18/cut/PostLinks.csv\n",
      "/test/stackexchange/release_09-10-18/cut/Posts.csv\n",
      "/test/stackexchange/release_09-10-18/cut/Tags.csv\n",
      "/test/stackexchange/release_09-10-18/cut/Users.csv\n",
      "/test/stackexchange/release_09-10-18/cut/Votes.csv\n"
     ]
    }
   ],
   "source": [
    "listFilePath = []\n",
    "if selSource.value == 'Local Files':\n",
    "    listFilePath = getLocalFiles(dblocal_tb.value)\n",
    "    for f in listFilePath:     \n",
    "        print (f)    \n",
    "    \n",
    "elif selSource.value == 'Download from URL':\n",
    "    listFilePath = dwnldUrl(\"http://ergast.com/downloads/f1db_csv.zip\", \"f1/\", \"f1db_csv.zip\")\n",
    "    for f in listFilePath:     \n",
    "        print (f)\n",
    "\n",
    "else:\n",
    "    print ('any')"
   ]
  },
  {
   "cell_type": "markdown",
   "metadata": {},
   "source": [
    "### Create item objects and append them to a list"
   ]
  },
  {
   "cell_type": "code",
   "execution_count": 13,
   "metadata": {},
   "outputs": [
    {
     "name": "stdout",
     "output_type": "stream",
     "text": [
      "_id  = https://archive.org/download/stackexchange/stats.stackexchange.com.7z\n",
      "name  = /test/stackexchange/release_09-10-18/cut/Badges.csv\n",
      "content  = [('_Id', 'int'), ('_UserId', 'int'), ('_Name', 'string'), ('_Date', 'timestamp'), ('_Class', 'int'), ('_TagBased', 'boolean')]\n",
      "size = 1746 Bytes\n",
      "\n",
      "_id  = https://archive.org/download/stackexchange/stats.stackexchange.com.7z\n",
      "name  = /test/stackexchange/release_09-10-18/cut/Comments.csv\n",
      "content  = [('_Id', 'int'), ('_PostId', 'int'), ('_Score', 'int'), ('_Text', 'string'), ('_CreationDate', 'timestamp'), ('_UserId', 'int'), ('_UserDisplayName', 'string')]\n",
      "size = 4766 Bytes\n",
      "\n",
      "_id  = https://archive.org/download/stackexchange/stats.stackexchange.com.7z\n",
      "name  = /test/stackexchange/release_09-10-18/cut/PostHistory.csv\n",
      "content  = [('_Id', 'string'), ('_PostHistoryTypeId', 'string'), ('_PostId', 'int'), ('_RevisionGUID', 'string'), ('_CreationDate', 'timestamp'), ('_UserId', 'int'), ('_Text', 'string'), ('_Comment', 'string'), ('_UserDisplayName', 'string')]\n",
      "size = 4221 Bytes\n",
      "\n",
      "_id  = https://archive.org/download/stackexchange/stats.stackexchange.com.7z\n",
      "name  = /test/stackexchange/release_09-10-18/cut/PostLinks.csv\n",
      "content  = [('_Id', 'int'), ('_CreationDate', 'timestamp'), ('_PostId', 'int'), ('_RelatedPostId', 'int'), ('_LinkTypeId', 'int')]\n",
      "size = 1589 Bytes\n",
      "\n",
      "_id  = https://archive.org/download/stackexchange/stats.stackexchange.com.7z\n",
      "name  = /test/stackexchange/release_09-10-18/cut/Posts.csv\n",
      "content  = [('_Id', 'string'), ('_PostTypeId', 'string'), ('_AcceptedAnswerId', 'string'), ('_CreationDate', 'timestamp'), ('_Score', 'int'), ('_ViewCount', 'int'), ('_Body', 'string'), ('_OwnerUserId', 'string'), ('_LastActivityDate', 'string'), ('_Title', 'string'), ('_Tags', 'string'), ('_AnswerCount', 'string'), ('_CommentCount', 'string'), ('_FavoriteCount', 'string'), ('_LastEditorUserId', 'string'), ('_LastEditDate', 'string'), ('_CommunityOwnedDate', 'string'), ('_ParentId', 'string'), ('_ClosedDate', 'string'), ('_OwnerDisplayName', 'string')]\n",
      "size = 4480 Bytes\n",
      "\n",
      "_id  = https://archive.org/download/stackexchange/stats.stackexchange.com.7z\n",
      "name  = /test/stackexchange/release_09-10-18/cut/Tags.csv\n",
      "content  = [('_Id', 'int'), ('_TagName', 'string'), ('_Count', 'int'), ('_ExcerptPostId', 'int'), ('_WikiPostId', 'int')]\n",
      "size = 1270 Bytes\n",
      "\n",
      "_id  = https://archive.org/download/stackexchange/stats.stackexchange.com.7z\n",
      "name  = /test/stackexchange/release_09-10-18/cut/Users.csv\n",
      "content  = [('_Id', 'string'), ('_Reputation', 'string'), ('_CreationDate', 'string'), ('_DisplayName', 'string'), ('_LastAccessDate', 'string'), ('_WebsiteUrl', 'string'), ('_Location', 'string'), ('_AboutMe', 'string'), ('_Views', 'string'), ('_UpVotes', 'int'), ('_DownVotes', 'string'), ('_AccountId', 'string'), ('_ProfileImageUrl', 'string')]\n",
      "size = 4881 Bytes\n",
      "\n",
      "_id  = https://archive.org/download/stackexchange/stats.stackexchange.com.7z\n",
      "name  = /test/stackexchange/release_09-10-18/cut/Votes.csv\n",
      "content  = [('_Id', 'int'), ('_PostId', 'int'), ('_VoteTypeId', 'int'), ('_CreationDate', 'timestamp'), ('_UserId', 'int')]\n",
      "size = 1440 Bytes\n",
      "\n"
     ]
    }
   ],
   "source": [
    "import os \n",
    "from pyspark import SparkContext\n",
    "\n",
    "## ITEM objects ###\n",
    "itemList = []\n",
    "index = 0\n",
    "\n",
    "# Ask to introduce schema info if known, else infere schema\n",
    "\n",
    "for f in listFilePath:  \n",
    "    df = sqlContext.read.format('com.databricks.spark.csv').options(header='true', inferschema='true').load(f) # note: custom schema should be defined in deduction phase (later)\n",
    "    content = df.dtypes # list N-tuple <attribute, data type>\n",
    "    size = os.path.getsize(f) # get file size in Bytes\n",
    "    ## Instance\n",
    "    itemList.append(Item(url_tb.value, f, content, size)) # _id, name, content, size\n",
    "    itemList[index].printInfo()\n",
    "    print() # Add a blank space between instances\n",
    "    index+=1"
   ]
  },
  {
   "cell_type": "markdown",
   "metadata": {},
   "source": [
    "### Create release objects and append them in a list "
   ]
  },
  {
   "cell_type": "code",
   "execution_count": 14,
   "metadata": {},
   "outputs": [
    {
     "name": "stdout",
     "output_type": "stream",
     "text": [
      "path_to_file\n",
      "_id  = https://archive.org/download/stackexchange/stats.stackexchange.com.7z\n",
      "releaseNum  = 1\n",
      "publicationDate  = Wed, 05 Sep 2018 23:45:54 GMT\n",
      "List of items = [<__main__.Item object at 0x7f8bb3be1438>, <__main__.Item object at 0x7f8bb3be17b8>, <__main__.Item object at 0x7f8bb3be1da0>, <__main__.Item object at 0x7f8bb3be9400>, <__main__.Item object at 0x7f8bb3be98d0>, <__main__.Item object at 0x7f8bb3be9a20>, <__main__.Item object at 0x7f8bb3be97b8>, <__main__.Item object at 0x7f8bb3be19b0>]\n",
      "size = 24393 Bytes\n"
     ]
    }
   ],
   "source": [
    "#------------------ RELEASE ------------------------------------------------------------------------------------------\n",
    "# We assume that publication date is the same as the one which the origin server believes the resource was last modified\n",
    "#conn = urllib.request.urlopen(\"http://ergast.com/downloads/f1db_csv.zip\", timeout=30)\n",
    "conn = urllib.request.urlopen(url_tb.value, timeout=30)\n",
    "last_modified = conn.headers['last-modified']\n",
    "publicationDate = last_modified\n",
    "\n",
    "import os\n",
    "print(os.path.splitext(\"path_to_file\")[0])\n",
    "\n",
    "# Get release size <br />\n",
    "releaseSize = 0\n",
    "for i in itemList:\n",
    "    releaseSize = i.size + releaseSize\n",
    "\n",
    "# Create a list of release objects    \n",
    "releaseList = []\n",
    "                           #_id, releaseNum, publicationDate, itemList, size\n",
    "releaseList.append(Release(url_tb.value, 1, publicationDate, itemList, releaseSize)) \n",
    "releaseList[0].printInfo()\n",
    "#--------------------------------------------------------------------------------------------------------------------"
   ]
  },
  {
   "cell_type": "markdown",
   "metadata": {},
   "source": [
    "### Create data collection object\n",
    "Using release size since both release and collection have the same data <br />\n",
    "Adding parameter manually, consider extracting them programmatically"
   ]
  },
  {
   "cell_type": "code",
   "execution_count": 15,
   "metadata": {},
   "outputs": [
    {
     "name": "stdout",
     "output_type": "stream",
     "text": [
      "_id  = https://archive.org/download/stackexchange/stats.stackexchange.com.7z\n",
      "name  = stats.stackexchange\n",
      "provider  = Stack Exchange, Inc.\n",
      "licence  = CC BY-SA 3.0\n",
      "size = 24393 Bytes\n",
      "author  = Stack Exchange Community\n",
      "description  = This is an anonymized dump of all user-contributed content on the Stack Exchange network. Each site is formatted as a separate archive consisting of XML files zipped via 7-zip using bzip2 compression. Each site archive includes Posts, Users, Votes, Comments, PostHistory and PostLinks.\n",
      "list of releases = [<__main__.Release object at 0x7f8bb3be1390>]\n"
     ]
    }
   ],
   "source": [
    "#----------- COLLECTION ---------------------------------------------------------------------------------------------\n",
    "# Ask for database name, provider, licence, author and description\n",
    "# _id = url maybe change for a hdfs url\n",
    "                                #_id, name, provider, licence, size, author, description, releaseList\n",
    "dataCollection = DataCollection(url_tb.value, \"stats.stackexchange\", dbprovider_tb.value, dblicense_tb.value, releaseSize, dbauthor_tb.value, dbdesc_tb.value, releaseList) \n",
    "dataCollection.printInfo()\n",
    "#--------------------------------------------------------------------------------------------------------------------"
   ]
  },
  {
   "cell_type": "markdown",
   "metadata": {},
   "source": [
    "### Serialize data collection objet to JSON"
   ]
  },
  {
   "cell_type": "code",
   "execution_count": 16,
   "metadata": {},
   "outputs": [
    {
     "name": "stdout",
     "output_type": "stream",
     "text": [
      "{'_id': 'https://archive.org/download/stackexchange/stats.stackexchange.com.7z', 'name': 'stats.stackexchange', 'provider': 'Stack Exchange, Inc.', 'licence': 'CC BY-SA 3.0', 'size': 24393, 'author': 'Stack Exchange Community', 'description': 'This is an anonymized dump of all user-contributed content on the Stack Exchange network. Each site is formatted as a separate archive consisting of XML files zipped via 7-zip using bzip2 compression. Each site archive includes Posts, Users, Votes, Comments, PostHistory and PostLinks.', 'releaseList': [{'_id': 'https://archive.org/download/stackexchange/stats.stackexchange.com.7z', 'releaseNum': 1, 'publicationDate': 'Wed, 05 Sep 2018 23:45:54 GMT', 'itemList': [{'_id': 'https://archive.org/download/stackexchange/stats.stackexchange.com.7z', 'name': '/test/stackexchange/release_09-10-18/cut/Badges.csv', 'content': [['_Id', 'int'], ['_UserId', 'int'], ['_Name', 'string'], ['_Date', 'timestamp'], ['_Class', 'int'], ['_TagBased', 'boolean']], 'size': 1746}, {'_id': 'https://archive.org/download/stackexchange/stats.stackexchange.com.7z', 'name': '/test/stackexchange/release_09-10-18/cut/Comments.csv', 'content': [['_Id', 'int'], ['_PostId', 'int'], ['_Score', 'int'], ['_Text', 'string'], ['_CreationDate', 'timestamp'], ['_UserId', 'int'], ['_UserDisplayName', 'string']], 'size': 4766}, {'_id': 'https://archive.org/download/stackexchange/stats.stackexchange.com.7z', 'name': '/test/stackexchange/release_09-10-18/cut/PostHistory.csv', 'content': [['_Id', 'string'], ['_PostHistoryTypeId', 'string'], ['_PostId', 'int'], ['_RevisionGUID', 'string'], ['_CreationDate', 'timestamp'], ['_UserId', 'int'], ['_Text', 'string'], ['_Comment', 'string'], ['_UserDisplayName', 'string']], 'size': 4221}, {'_id': 'https://archive.org/download/stackexchange/stats.stackexchange.com.7z', 'name': '/test/stackexchange/release_09-10-18/cut/PostLinks.csv', 'content': [['_Id', 'int'], ['_CreationDate', 'timestamp'], ['_PostId', 'int'], ['_RelatedPostId', 'int'], ['_LinkTypeId', 'int']], 'size': 1589}, {'_id': 'https://archive.org/download/stackexchange/stats.stackexchange.com.7z', 'name': '/test/stackexchange/release_09-10-18/cut/Posts.csv', 'content': [['_Id', 'string'], ['_PostTypeId', 'string'], ['_AcceptedAnswerId', 'string'], ['_CreationDate', 'timestamp'], ['_Score', 'int'], ['_ViewCount', 'int'], ['_Body', 'string'], ['_OwnerUserId', 'string'], ['_LastActivityDate', 'string'], ['_Title', 'string'], ['_Tags', 'string'], ['_AnswerCount', 'string'], ['_CommentCount', 'string'], ['_FavoriteCount', 'string'], ['_LastEditorUserId', 'string'], ['_LastEditDate', 'string'], ['_CommunityOwnedDate', 'string'], ['_ParentId', 'string'], ['_ClosedDate', 'string'], ['_OwnerDisplayName', 'string']], 'size': 4480}, {'_id': 'https://archive.org/download/stackexchange/stats.stackexchange.com.7z', 'name': '/test/stackexchange/release_09-10-18/cut/Tags.csv', 'content': [['_Id', 'int'], ['_TagName', 'string'], ['_Count', 'int'], ['_ExcerptPostId', 'int'], ['_WikiPostId', 'int']], 'size': 1270}, {'_id': 'https://archive.org/download/stackexchange/stats.stackexchange.com.7z', 'name': '/test/stackexchange/release_09-10-18/cut/Users.csv', 'content': [['_Id', 'string'], ['_Reputation', 'string'], ['_CreationDate', 'string'], ['_DisplayName', 'string'], ['_LastAccessDate', 'string'], ['_WebsiteUrl', 'string'], ['_Location', 'string'], ['_AboutMe', 'string'], ['_Views', 'string'], ['_UpVotes', 'int'], ['_DownVotes', 'string'], ['_AccountId', 'string'], ['_ProfileImageUrl', 'string']], 'size': 4881}, {'_id': 'https://archive.org/download/stackexchange/stats.stackexchange.com.7z', 'name': '/test/stackexchange/release_09-10-18/cut/Votes.csv', 'content': [['_Id', 'int'], ['_PostId', 'int'], ['_VoteTypeId', 'int'], ['_CreationDate', 'timestamp'], ['_UserId', 'int']], 'size': 1440}], 'size': 24393}]}\n",
      "<class 'dict'>\n"
     ]
    }
   ],
   "source": [
    "import json\n",
    "\n",
    "dataCollectionJson = json.dumps(dataCollection, default=lambda x: x.__dict__, indent=3)\n",
    "dataCollectionJson = json.loads(dataCollectionJson)\n",
    "print (dataCollectionJson)\n",
    "print (type(dataCollectionJson))"
   ]
  },
  {
   "cell_type": "markdown",
   "metadata": {},
   "source": [
    "### Store meta-data file in a MongoDB Atlas Cluster"
   ]
  },
  {
   "cell_type": "code",
   "execution_count": 17,
   "metadata": {},
   "outputs": [
    {
     "ename": "DuplicateKeyError",
     "evalue": "E11000 duplicate key error collection: stackoverflow-dump-db.stackoverflow-stats-metadata-cut index: _id_ dup key: { : \"https://archive.org/download/stackexchange/stats.stackexchange.com.7z\" }",
     "output_type": "error",
     "traceback": [
      "\u001b[0;31m---------------------------------------------------------------------------\u001b[0m",
      "\u001b[0;31mDuplicateKeyError\u001b[0m                         Traceback (most recent call last)",
      "\u001b[0;32m<ipython-input-17-84ab4bf9636d>\u001b[0m in \u001b[0;36m<module>\u001b[0;34m()\u001b[0m\n\u001b[1;32m     16\u001b[0m \u001b[0mcollection\u001b[0m \u001b[0;34m=\u001b[0m \u001b[0mdb\u001b[0m\u001b[0;34m[\u001b[0m\u001b[0;34m'stackoverflow-stats-metadata-cut'\u001b[0m\u001b[0;34m]\u001b[0m\u001b[0;34m\u001b[0m\u001b[0m\n\u001b[1;32m     17\u001b[0m \u001b[0;34m\u001b[0m\u001b[0m\n\u001b[0;32m---> 18\u001b[0;31m \u001b[0mpid\u001b[0m \u001b[0;34m=\u001b[0m \u001b[0mcollection\u001b[0m\u001b[0;34m.\u001b[0m\u001b[0minsert_one\u001b[0m\u001b[0;34m(\u001b[0m\u001b[0mdataCollectionJson\u001b[0m\u001b[0;34m)\u001b[0m\u001b[0;34m.\u001b[0m\u001b[0minserted_id\u001b[0m  \u001b[0;31m# this id can replace the url in datacollectionmodel class\u001b[0m\u001b[0;34m\u001b[0m\u001b[0m\n\u001b[0m\u001b[1;32m     19\u001b[0m \u001b[0;34m\u001b[0m\u001b[0m\n\u001b[1;32m     20\u001b[0m \u001b[0mpprint\u001b[0m\u001b[0;34m.\u001b[0m\u001b[0mpprint\u001b[0m\u001b[0;34m(\u001b[0m\u001b[0mcollection\u001b[0m\u001b[0;34m.\u001b[0m\u001b[0mfind_one\u001b[0m\u001b[0;34m(\u001b[0m\u001b[0;34m)\u001b[0m\u001b[0;34m)\u001b[0m\u001b[0;34m\u001b[0m\u001b[0m\n",
      "\u001b[0;32m/opt/conda/lib/python3.6/site-packages/pymongo/collection.py\u001b[0m in \u001b[0;36minsert_one\u001b[0;34m(self, document, bypass_document_validation, session)\u001b[0m\n\u001b[1;32m    691\u001b[0m                          \u001b[0mwrite_concern\u001b[0m\u001b[0;34m=\u001b[0m\u001b[0mwrite_concern\u001b[0m\u001b[0;34m,\u001b[0m\u001b[0;34m\u001b[0m\u001b[0m\n\u001b[1;32m    692\u001b[0m                          \u001b[0mbypass_doc_val\u001b[0m\u001b[0;34m=\u001b[0m\u001b[0mbypass_document_validation\u001b[0m\u001b[0;34m,\u001b[0m\u001b[0;34m\u001b[0m\u001b[0m\n\u001b[0;32m--> 693\u001b[0;31m                          session=session),\n\u001b[0m\u001b[1;32m    694\u001b[0m             write_concern.acknowledged)\n\u001b[1;32m    695\u001b[0m \u001b[0;34m\u001b[0m\u001b[0m\n",
      "\u001b[0;32m/opt/conda/lib/python3.6/site-packages/pymongo/collection.py\u001b[0m in \u001b[0;36m_insert\u001b[0;34m(self, docs, ordered, check_keys, manipulate, write_concern, op_id, bypass_doc_val, session)\u001b[0m\n\u001b[1;32m    605\u001b[0m             return self._insert_one(\n\u001b[1;32m    606\u001b[0m                 \u001b[0mdocs\u001b[0m\u001b[0;34m,\u001b[0m \u001b[0mordered\u001b[0m\u001b[0;34m,\u001b[0m \u001b[0mcheck_keys\u001b[0m\u001b[0;34m,\u001b[0m \u001b[0mmanipulate\u001b[0m\u001b[0;34m,\u001b[0m \u001b[0mwrite_concern\u001b[0m\u001b[0;34m,\u001b[0m \u001b[0mop_id\u001b[0m\u001b[0;34m,\u001b[0m\u001b[0;34m\u001b[0m\u001b[0m\n\u001b[0;32m--> 607\u001b[0;31m                 bypass_doc_val, session)\n\u001b[0m\u001b[1;32m    608\u001b[0m \u001b[0;34m\u001b[0m\u001b[0m\n\u001b[1;32m    609\u001b[0m         \u001b[0mids\u001b[0m \u001b[0;34m=\u001b[0m \u001b[0;34m[\u001b[0m\u001b[0;34m]\u001b[0m\u001b[0;34m\u001b[0m\u001b[0m\n",
      "\u001b[0;32m/opt/conda/lib/python3.6/site-packages/pymongo/collection.py\u001b[0m in \u001b[0;36m_insert_one\u001b[0;34m(self, doc, ordered, check_keys, manipulate, write_concern, op_id, bypass_doc_val, session)\u001b[0m\n\u001b[1;32m    593\u001b[0m \u001b[0;34m\u001b[0m\u001b[0m\n\u001b[1;32m    594\u001b[0m         self.__database.client._retryable_write(\n\u001b[0;32m--> 595\u001b[0;31m             acknowledged, _insert_command, session)\n\u001b[0m\u001b[1;32m    596\u001b[0m \u001b[0;34m\u001b[0m\u001b[0m\n\u001b[1;32m    597\u001b[0m         \u001b[0;32mif\u001b[0m \u001b[0;32mnot\u001b[0m \u001b[0misinstance\u001b[0m\u001b[0;34m(\u001b[0m\u001b[0mdoc\u001b[0m\u001b[0;34m,\u001b[0m \u001b[0mRawBSONDocument\u001b[0m\u001b[0;34m)\u001b[0m\u001b[0;34m:\u001b[0m\u001b[0;34m\u001b[0m\u001b[0m\n",
      "\u001b[0;32m/opt/conda/lib/python3.6/site-packages/pymongo/mongo_client.py\u001b[0m in \u001b[0;36m_retryable_write\u001b[0;34m(self, retryable, func, session)\u001b[0m\n\u001b[1;32m   1241\u001b[0m         \u001b[0;34m\"\"\"Internal retryable write helper.\"\"\"\u001b[0m\u001b[0;34m\u001b[0m\u001b[0m\n\u001b[1;32m   1242\u001b[0m         \u001b[0;32mwith\u001b[0m \u001b[0mself\u001b[0m\u001b[0;34m.\u001b[0m\u001b[0m_tmp_session\u001b[0m\u001b[0;34m(\u001b[0m\u001b[0msession\u001b[0m\u001b[0;34m)\u001b[0m \u001b[0;32mas\u001b[0m \u001b[0ms\u001b[0m\u001b[0;34m:\u001b[0m\u001b[0;34m\u001b[0m\u001b[0m\n\u001b[0;32m-> 1243\u001b[0;31m             \u001b[0;32mreturn\u001b[0m \u001b[0mself\u001b[0m\u001b[0;34m.\u001b[0m\u001b[0m_retry_with_session\u001b[0m\u001b[0;34m(\u001b[0m\u001b[0mretryable\u001b[0m\u001b[0;34m,\u001b[0m \u001b[0mfunc\u001b[0m\u001b[0;34m,\u001b[0m \u001b[0ms\u001b[0m\u001b[0;34m,\u001b[0m \u001b[0;32mNone\u001b[0m\u001b[0;34m)\u001b[0m\u001b[0;34m\u001b[0m\u001b[0m\n\u001b[0m\u001b[1;32m   1244\u001b[0m \u001b[0;34m\u001b[0m\u001b[0m\n\u001b[1;32m   1245\u001b[0m     \u001b[0;32mdef\u001b[0m \u001b[0m__reset_server\u001b[0m\u001b[0;34m(\u001b[0m\u001b[0mself\u001b[0m\u001b[0;34m,\u001b[0m \u001b[0maddress\u001b[0m\u001b[0;34m)\u001b[0m\u001b[0;34m:\u001b[0m\u001b[0;34m\u001b[0m\u001b[0m\n",
      "\u001b[0;32m/opt/conda/lib/python3.6/site-packages/pymongo/mongo_client.py\u001b[0m in \u001b[0;36m_retry_with_session\u001b[0;34m(self, retryable, func, session, bulk)\u001b[0m\n\u001b[1;32m   1194\u001b[0m                         \u001b[0;31m# Reset the transaction id and retry the operation.\u001b[0m\u001b[0;34m\u001b[0m\u001b[0;34m\u001b[0m\u001b[0m\n\u001b[1;32m   1195\u001b[0m                         \u001b[0msession\u001b[0m\u001b[0;34m.\u001b[0m\u001b[0m_retry_transaction_id\u001b[0m\u001b[0;34m(\u001b[0m\u001b[0;34m)\u001b[0m\u001b[0;34m\u001b[0m\u001b[0m\n\u001b[0;32m-> 1196\u001b[0;31m                     \u001b[0;32mreturn\u001b[0m \u001b[0mfunc\u001b[0m\u001b[0;34m(\u001b[0m\u001b[0msession\u001b[0m\u001b[0;34m,\u001b[0m \u001b[0msock_info\u001b[0m\u001b[0;34m,\u001b[0m \u001b[0mretryable\u001b[0m\u001b[0;34m)\u001b[0m\u001b[0;34m\u001b[0m\u001b[0m\n\u001b[0m\u001b[1;32m   1197\u001b[0m             \u001b[0;32mexcept\u001b[0m \u001b[0mServerSelectionTimeoutError\u001b[0m\u001b[0;34m:\u001b[0m\u001b[0;34m\u001b[0m\u001b[0m\n\u001b[1;32m   1198\u001b[0m                 \u001b[0;32mif\u001b[0m \u001b[0mis_retrying\u001b[0m\u001b[0;34m(\u001b[0m\u001b[0;34m)\u001b[0m\u001b[0;34m:\u001b[0m\u001b[0;34m\u001b[0m\u001b[0m\n",
      "\u001b[0;32m/opt/conda/lib/python3.6/site-packages/pymongo/collection.py\u001b[0m in \u001b[0;36m_insert_command\u001b[0;34m(session, sock_info, retryable_write)\u001b[0m\n\u001b[1;32m    590\u001b[0m                 retryable_write=retryable_write)\n\u001b[1;32m    591\u001b[0m \u001b[0;34m\u001b[0m\u001b[0m\n\u001b[0;32m--> 592\u001b[0;31m             \u001b[0m_check_write_command_response\u001b[0m\u001b[0;34m(\u001b[0m\u001b[0mresult\u001b[0m\u001b[0;34m)\u001b[0m\u001b[0;34m\u001b[0m\u001b[0m\n\u001b[0m\u001b[1;32m    593\u001b[0m \u001b[0;34m\u001b[0m\u001b[0m\n\u001b[1;32m    594\u001b[0m         self.__database.client._retryable_write(\n",
      "\u001b[0;32m/opt/conda/lib/python3.6/site-packages/pymongo/helpers.py\u001b[0m in \u001b[0;36m_check_write_command_response\u001b[0;34m(result)\u001b[0m\n\u001b[1;32m    215\u001b[0m     \u001b[0mwrite_errors\u001b[0m \u001b[0;34m=\u001b[0m \u001b[0mresult\u001b[0m\u001b[0;34m.\u001b[0m\u001b[0mget\u001b[0m\u001b[0;34m(\u001b[0m\u001b[0;34m\"writeErrors\"\u001b[0m\u001b[0;34m)\u001b[0m\u001b[0;34m\u001b[0m\u001b[0m\n\u001b[1;32m    216\u001b[0m     \u001b[0;32mif\u001b[0m \u001b[0mwrite_errors\u001b[0m\u001b[0;34m:\u001b[0m\u001b[0;34m\u001b[0m\u001b[0m\n\u001b[0;32m--> 217\u001b[0;31m         \u001b[0m_raise_last_write_error\u001b[0m\u001b[0;34m(\u001b[0m\u001b[0mwrite_errors\u001b[0m\u001b[0;34m)\u001b[0m\u001b[0;34m\u001b[0m\u001b[0m\n\u001b[0m\u001b[1;32m    218\u001b[0m \u001b[0;34m\u001b[0m\u001b[0m\n\u001b[1;32m    219\u001b[0m     \u001b[0merror\u001b[0m \u001b[0;34m=\u001b[0m \u001b[0mresult\u001b[0m\u001b[0;34m.\u001b[0m\u001b[0mget\u001b[0m\u001b[0;34m(\u001b[0m\u001b[0;34m\"writeConcernError\"\u001b[0m\u001b[0;34m)\u001b[0m\u001b[0;34m\u001b[0m\u001b[0m\n",
      "\u001b[0;32m/opt/conda/lib/python3.6/site-packages/pymongo/helpers.py\u001b[0m in \u001b[0;36m_raise_last_write_error\u001b[0;34m(write_errors)\u001b[0m\n\u001b[1;32m    196\u001b[0m     \u001b[0merror\u001b[0m \u001b[0;34m=\u001b[0m \u001b[0mwrite_errors\u001b[0m\u001b[0;34m[\u001b[0m\u001b[0;34m-\u001b[0m\u001b[0;36m1\u001b[0m\u001b[0;34m]\u001b[0m\u001b[0;34m\u001b[0m\u001b[0m\n\u001b[1;32m    197\u001b[0m     \u001b[0;32mif\u001b[0m \u001b[0merror\u001b[0m\u001b[0;34m.\u001b[0m\u001b[0mget\u001b[0m\u001b[0;34m(\u001b[0m\u001b[0;34m\"code\"\u001b[0m\u001b[0;34m)\u001b[0m \u001b[0;34m==\u001b[0m \u001b[0;36m11000\u001b[0m\u001b[0;34m:\u001b[0m\u001b[0;34m\u001b[0m\u001b[0m\n\u001b[0;32m--> 198\u001b[0;31m         \u001b[0;32mraise\u001b[0m \u001b[0mDuplicateKeyError\u001b[0m\u001b[0;34m(\u001b[0m\u001b[0merror\u001b[0m\u001b[0;34m.\u001b[0m\u001b[0mget\u001b[0m\u001b[0;34m(\u001b[0m\u001b[0;34m\"errmsg\"\u001b[0m\u001b[0;34m)\u001b[0m\u001b[0;34m,\u001b[0m \u001b[0;36m11000\u001b[0m\u001b[0;34m,\u001b[0m \u001b[0merror\u001b[0m\u001b[0;34m)\u001b[0m\u001b[0;34m\u001b[0m\u001b[0m\n\u001b[0m\u001b[1;32m    199\u001b[0m     \u001b[0;32mraise\u001b[0m \u001b[0mWriteError\u001b[0m\u001b[0;34m(\u001b[0m\u001b[0merror\u001b[0m\u001b[0;34m.\u001b[0m\u001b[0mget\u001b[0m\u001b[0;34m(\u001b[0m\u001b[0;34m\"errmsg\"\u001b[0m\u001b[0;34m)\u001b[0m\u001b[0;34m,\u001b[0m \u001b[0merror\u001b[0m\u001b[0;34m.\u001b[0m\u001b[0mget\u001b[0m\u001b[0;34m(\u001b[0m\u001b[0;34m\"code\"\u001b[0m\u001b[0;34m)\u001b[0m\u001b[0;34m,\u001b[0m \u001b[0merror\u001b[0m\u001b[0;34m)\u001b[0m\u001b[0;34m\u001b[0m\u001b[0m\n\u001b[1;32m    200\u001b[0m \u001b[0;34m\u001b[0m\u001b[0m\n",
      "\u001b[0;31mDuplicateKeyError\u001b[0m: E11000 duplicate key error collection: stackoverflow-dump-db.stackoverflow-stats-metadata-cut index: _id_ dup key: { : \"https://archive.org/download/stackexchange/stats.stackexchange.com.7z\" }"
     ]
    }
   ],
   "source": [
    "import json\n",
    "from pymongo import MongoClient\n",
    "\n",
    "# Creates a client for the primary sandbox from cluster host cluster0-nlbcx.mongodb.net\n",
    "client = MongoClient('cluster0-shard-00-00-nlbcx.mongodb.net:27017',\n",
    "                      username='adminUser',\n",
    "                      password='xpass',\n",
    "                      authSource='admin',                      \n",
    "                      replicaSet='Cluster0-shard-0',\n",
    "                      ssl=True,\n",
    "                      retryWrites=True)\n",
    "db = client.test \n",
    "#db = client.test_database\n",
    "db = client['stackoverflow-dump-db']\n",
    "#collection = db.test_collection\n",
    "collection = db['stackoverflow-stats-metadata-cut']\n",
    "\n",
    "pid = collection.insert_one(dataCollectionJson).inserted_id  # this id can replace the url in datacollectionmodel class\n",
    "\n",
    "pprint.pprint(collection.find_one())\n",
    "\n",
    "#client.close()"
   ]
  }
 ],
 "metadata": {
  "kernelspec": {
   "display_name": "Python 3",
   "language": "python",
   "name": "python3"
  },
  "language_info": {
   "codemirror_mode": {
    "name": "ipython",
    "version": 3
   },
   "file_extension": ".py",
   "mimetype": "text/x-python",
   "name": "python",
   "nbconvert_exporter": "python",
   "pygments_lexer": "ipython3",
   "version": "3.6.5"
  }
 },
 "nbformat": 4,
 "nbformat_minor": 2
}
