{
  "cells": [
    {
      "metadata": {
        "trusted": true
      },
      "cell_type": "code",
      "source": "import time, threading\nimport ipywidgets as widgets\n\nclass myControls:\n# btn - receive a button object\n# lbl - receive a label object\n#    we use lbl.value to get timer value\n# q - receive a multiple option object\n#    we use q.value to get answered value\n    def timer(btn,lbl,q):        \n\n        cnt =int(lbl.value)   \n        on=btn.value \n        desc=q.description\n\n        if desc!='Submitted':\n            if on==True:      \n                threading.Timer(1, timer, [btn,lbl,q]).start()\n                cnt = cnt+1                        \n                lbl.value = str(cnt)\n                btn.description='Submit answer'\n                q.disabled=False\n\n            elif on==False:\n                threading.Timer(1, timer, [btn,lbl,q]).start()\n                btn.description='Activate'\n                q.disabled=True\n\n            else:\n                None\n\n        if cnt!=0 and btn.description=='Activate':\n            threading.Timer(1, timer, [btn,lbl,q]).start()\n            q.description='Submitted'\n            btn.visibility='hidden'\n            btn.description='--'\n            btn.disbled=True    ",
      "execution_count": 5,
      "outputs": []
    }
  ],
  "metadata": {
    "kernelspec": {
      "name": "python3",
      "display_name": "Python 3",
      "language": "python"
    },
    "language_info": {
      "mimetype": "text/x-python",
      "nbconvert_exporter": "python",
      "name": "python",
      "pygments_lexer": "ipython3",
      "version": "3.5.4",
      "file_extension": ".py",
      "codemirror_mode": {
        "version": 3,
        "name": "ipython"
      }
    }
  },
  "nbformat": 4,
  "nbformat_minor": 1
}